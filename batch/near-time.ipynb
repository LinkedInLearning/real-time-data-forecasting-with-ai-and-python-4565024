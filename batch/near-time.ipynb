{
 "cells": [
  {
   "cell_type": "markdown",
   "metadata": {},
   "source": [
    "# Near-time Forecasting"
   ]
  },
  {
   "cell_type": "markdown",
   "metadata": {},
   "source": [
    "## Recalculating Features"
   ]
  },
  {
   "cell_type": "markdown",
   "metadata": {},
   "source": [
    "**Select data, but this time cut off somewhere randomly**\n",
    "\n",
    "Let's say we want to make a prediction now, given the data we have"
   ]
  },
  {
   "cell_type": "code",
   "execution_count": 1,
   "metadata": {},
   "outputs": [
    {
     "data": {
      "text/html": [
       "<div>\n",
       "<style scoped>\n",
       "    .dataframe tbody tr th:only-of-type {\n",
       "        vertical-align: middle;\n",
       "    }\n",
       "\n",
       "    .dataframe tbody tr th {\n",
       "        vertical-align: top;\n",
       "    }\n",
       "\n",
       "    .dataframe thead th {\n",
       "        text-align: right;\n",
       "    }\n",
       "</style>\n",
       "<table border=\"1\" class=\"dataframe\">\n",
       "  <thead>\n",
       "    <tr style=\"text-align: right;\">\n",
       "      <th></th>\n",
       "      <th>subba</th>\n",
       "      <th>subba-name</th>\n",
       "      <th>parent</th>\n",
       "      <th>parent-name</th>\n",
       "      <th>value</th>\n",
       "      <th>value-units</th>\n",
       "    </tr>\n",
       "    <tr>\n",
       "      <th>period</th>\n",
       "      <th></th>\n",
       "      <th></th>\n",
       "      <th></th>\n",
       "      <th></th>\n",
       "      <th></th>\n",
       "      <th></th>\n",
       "    </tr>\n",
       "  </thead>\n",
       "  <tbody>\n",
       "    <tr>\n",
       "      <th>2024-04-04 14:00:00</th>\n",
       "      <td>ZONJ</td>\n",
       "      <td>New York City</td>\n",
       "      <td>NYIS</td>\n",
       "      <td>New York Independent System Operator</td>\n",
       "      <td>5752</td>\n",
       "      <td>megawatthours</td>\n",
       "    </tr>\n",
       "    <tr>\n",
       "      <th>2024-04-04 13:00:00</th>\n",
       "      <td>ZONJ</td>\n",
       "      <td>New York City</td>\n",
       "      <td>NYIS</td>\n",
       "      <td>New York Independent System Operator</td>\n",
       "      <td>5630</td>\n",
       "      <td>megawatthours</td>\n",
       "    </tr>\n",
       "    <tr>\n",
       "      <th>2024-04-04 12:00:00</th>\n",
       "      <td>ZONJ</td>\n",
       "      <td>New York City</td>\n",
       "      <td>NYIS</td>\n",
       "      <td>New York Independent System Operator</td>\n",
       "      <td>5420</td>\n",
       "      <td>megawatthours</td>\n",
       "    </tr>\n",
       "    <tr>\n",
       "      <th>2024-04-04 11:00:00</th>\n",
       "      <td>ZONJ</td>\n",
       "      <td>New York City</td>\n",
       "      <td>NYIS</td>\n",
       "      <td>New York Independent System Operator</td>\n",
       "      <td>4989</td>\n",
       "      <td>megawatthours</td>\n",
       "    </tr>\n",
       "    <tr>\n",
       "      <th>2024-04-04 10:00:00</th>\n",
       "      <td>ZONJ</td>\n",
       "      <td>New York City</td>\n",
       "      <td>NYIS</td>\n",
       "      <td>New York Independent System Operator</td>\n",
       "      <td>4567</td>\n",
       "      <td>megawatthours</td>\n",
       "    </tr>\n",
       "    <tr>\n",
       "      <th>...</th>\n",
       "      <td>...</td>\n",
       "      <td>...</td>\n",
       "      <td>...</td>\n",
       "      <td>...</td>\n",
       "      <td>...</td>\n",
       "      <td>...</td>\n",
       "    </tr>\n",
       "    <tr>\n",
       "      <th>2024-01-01 04:00:00</th>\n",
       "      <td>ZONJ</td>\n",
       "      <td>New York City</td>\n",
       "      <td>NYIS</td>\n",
       "      <td>New York Independent System Operator</td>\n",
       "      <td>4956</td>\n",
       "      <td>megawatthours</td>\n",
       "    </tr>\n",
       "    <tr>\n",
       "      <th>2024-01-01 03:00:00</th>\n",
       "      <td>ZONJ</td>\n",
       "      <td>New York City</td>\n",
       "      <td>NYIS</td>\n",
       "      <td>New York Independent System Operator</td>\n",
       "      <td>5112</td>\n",
       "      <td>megawatthours</td>\n",
       "    </tr>\n",
       "    <tr>\n",
       "      <th>2024-01-01 02:00:00</th>\n",
       "      <td>ZONJ</td>\n",
       "      <td>New York City</td>\n",
       "      <td>NYIS</td>\n",
       "      <td>New York Independent System Operator</td>\n",
       "      <td>5257</td>\n",
       "      <td>megawatthours</td>\n",
       "    </tr>\n",
       "    <tr>\n",
       "      <th>2024-01-01 01:00:00</th>\n",
       "      <td>ZONJ</td>\n",
       "      <td>New York City</td>\n",
       "      <td>NYIS</td>\n",
       "      <td>New York Independent System Operator</td>\n",
       "      <td>5417</td>\n",
       "      <td>megawatthours</td>\n",
       "    </tr>\n",
       "    <tr>\n",
       "      <th>2024-01-01 00:00:00</th>\n",
       "      <td>ZONJ</td>\n",
       "      <td>New York City</td>\n",
       "      <td>NYIS</td>\n",
       "      <td>New York Independent System Operator</td>\n",
       "      <td>5536</td>\n",
       "      <td>megawatthours</td>\n",
       "    </tr>\n",
       "  </tbody>\n",
       "</table>\n",
       "<p>2270 rows × 6 columns</p>\n",
       "</div>"
      ],
      "text/plain": [
       "                    subba     subba-name parent  \\\n",
       "period                                            \n",
       "2024-04-04 14:00:00  ZONJ  New York City   NYIS   \n",
       "2024-04-04 13:00:00  ZONJ  New York City   NYIS   \n",
       "2024-04-04 12:00:00  ZONJ  New York City   NYIS   \n",
       "2024-04-04 11:00:00  ZONJ  New York City   NYIS   \n",
       "2024-04-04 10:00:00  ZONJ  New York City   NYIS   \n",
       "...                   ...            ...    ...   \n",
       "2024-01-01 04:00:00  ZONJ  New York City   NYIS   \n",
       "2024-01-01 03:00:00  ZONJ  New York City   NYIS   \n",
       "2024-01-01 02:00:00  ZONJ  New York City   NYIS   \n",
       "2024-01-01 01:00:00  ZONJ  New York City   NYIS   \n",
       "2024-01-01 00:00:00  ZONJ  New York City   NYIS   \n",
       "\n",
       "                                              parent-name  value  \\\n",
       "period                                                             \n",
       "2024-04-04 14:00:00  New York Independent System Operator   5752   \n",
       "2024-04-04 13:00:00  New York Independent System Operator   5630   \n",
       "2024-04-04 12:00:00  New York Independent System Operator   5420   \n",
       "2024-04-04 11:00:00  New York Independent System Operator   4989   \n",
       "2024-04-04 10:00:00  New York Independent System Operator   4567   \n",
       "...                                                   ...    ...   \n",
       "2024-01-01 04:00:00  New York Independent System Operator   4956   \n",
       "2024-01-01 03:00:00  New York Independent System Operator   5112   \n",
       "2024-01-01 02:00:00  New York Independent System Operator   5257   \n",
       "2024-01-01 01:00:00  New York Independent System Operator   5417   \n",
       "2024-01-01 00:00:00  New York Independent System Operator   5536   \n",
       "\n",
       "                       value-units  \n",
       "period                              \n",
       "2024-04-04 14:00:00  megawatthours  \n",
       "2024-04-04 13:00:00  megawatthours  \n",
       "2024-04-04 12:00:00  megawatthours  \n",
       "2024-04-04 11:00:00  megawatthours  \n",
       "2024-04-04 10:00:00  megawatthours  \n",
       "...                            ...  \n",
       "2024-01-01 04:00:00  megawatthours  \n",
       "2024-01-01 03:00:00  megawatthours  \n",
       "2024-01-01 02:00:00  megawatthours  \n",
       "2024-01-01 01:00:00  megawatthours  \n",
       "2024-01-01 00:00:00  megawatthours  \n",
       "\n",
       "[2270 rows x 6 columns]"
      ]
     },
     "execution_count": 1,
     "metadata": {},
     "output_type": "execute_result"
    }
   ],
   "source": [
    "import pandas as pd\n",
    "csv_file_path = 'data/energy_data_new.csv'\n",
    "df = (pd.read_csv(csv_file_path, parse_dates=['period'])\n",
    "      .set_index('period')\n",
    "      .sort_index(ascending=False))\n",
    "df = df.tail(-81)\n",
    "df"
   ]
  },
  {
   "cell_type": "markdown",
   "metadata": {},
   "source": [
    "**To make a prediction, we need to find out the minimum number of historic timesteps (offset) to calculate our features**\n",
    "\n",
    "We get this from the YAML file"
   ]
  },
  {
   "cell_type": "code",
   "execution_count": 2,
   "metadata": {},
   "outputs": [
    {
     "name": "stdout",
     "output_type": "stream",
     "text": [
      "13\n"
     ]
    }
   ],
   "source": [
    "import yaml\n",
    "import os\n",
    "directory = \"feature_store\"\n",
    "yaml_file_path = os.path.join(directory, 'config_v1.yaml')\n",
    "with open(yaml_file_path, 'r') as file:\n",
    "    config = yaml.safe_load(file)\n",
    "\n",
    "max_offset_days = int(config['feature_store']['feature_offset'])\n",
    "\n",
    "print(max_offset_days)"
   ]
  },
  {
   "cell_type": "markdown",
   "metadata": {},
   "source": [
    "**Convert 13 days into hours**"
   ]
  },
  {
   "cell_type": "code",
   "execution_count": 3,
   "metadata": {},
   "outputs": [
    {
     "data": {
      "text/plain": [
       "336"
      ]
     },
     "execution_count": 3,
     "metadata": {},
     "output_type": "execute_result"
    }
   ],
   "source": [
    "max_offset_hours = (max_offset_days + 1) * 24 # +1 because we need the current day + the offset\n",
    "max_offset_hours"
   ]
  },
  {
   "cell_type": "markdown",
   "metadata": {},
   "source": [
    "**Select this mini-batch of data**\n",
    "\n",
    "This is the minimum set of data required for making a prediction with our model"
   ]
  },
  {
   "cell_type": "code",
   "execution_count": 4,
   "metadata": {},
   "outputs": [
    {
     "data": {
      "text/html": [
       "<div>\n",
       "<style scoped>\n",
       "    .dataframe tbody tr th:only-of-type {\n",
       "        vertical-align: middle;\n",
       "    }\n",
       "\n",
       "    .dataframe tbody tr th {\n",
       "        vertical-align: top;\n",
       "    }\n",
       "\n",
       "    .dataframe thead th {\n",
       "        text-align: right;\n",
       "    }\n",
       "</style>\n",
       "<table border=\"1\" class=\"dataframe\">\n",
       "  <thead>\n",
       "    <tr style=\"text-align: right;\">\n",
       "      <th></th>\n",
       "      <th>subba</th>\n",
       "      <th>subba-name</th>\n",
       "      <th>parent</th>\n",
       "      <th>parent-name</th>\n",
       "      <th>value</th>\n",
       "      <th>value-units</th>\n",
       "    </tr>\n",
       "    <tr>\n",
       "      <th>period</th>\n",
       "      <th></th>\n",
       "      <th></th>\n",
       "      <th></th>\n",
       "      <th></th>\n",
       "      <th></th>\n",
       "      <th></th>\n",
       "    </tr>\n",
       "  </thead>\n",
       "  <tbody>\n",
       "    <tr>\n",
       "      <th>2024-04-04 14:00:00</th>\n",
       "      <td>ZONJ</td>\n",
       "      <td>New York City</td>\n",
       "      <td>NYIS</td>\n",
       "      <td>New York Independent System Operator</td>\n",
       "      <td>5752</td>\n",
       "      <td>megawatthours</td>\n",
       "    </tr>\n",
       "    <tr>\n",
       "      <th>2024-04-04 13:00:00</th>\n",
       "      <td>ZONJ</td>\n",
       "      <td>New York City</td>\n",
       "      <td>NYIS</td>\n",
       "      <td>New York Independent System Operator</td>\n",
       "      <td>5630</td>\n",
       "      <td>megawatthours</td>\n",
       "    </tr>\n",
       "    <tr>\n",
       "      <th>2024-04-04 12:00:00</th>\n",
       "      <td>ZONJ</td>\n",
       "      <td>New York City</td>\n",
       "      <td>NYIS</td>\n",
       "      <td>New York Independent System Operator</td>\n",
       "      <td>5420</td>\n",
       "      <td>megawatthours</td>\n",
       "    </tr>\n",
       "    <tr>\n",
       "      <th>2024-04-04 11:00:00</th>\n",
       "      <td>ZONJ</td>\n",
       "      <td>New York City</td>\n",
       "      <td>NYIS</td>\n",
       "      <td>New York Independent System Operator</td>\n",
       "      <td>4989</td>\n",
       "      <td>megawatthours</td>\n",
       "    </tr>\n",
       "    <tr>\n",
       "      <th>2024-04-04 10:00:00</th>\n",
       "      <td>ZONJ</td>\n",
       "      <td>New York City</td>\n",
       "      <td>NYIS</td>\n",
       "      <td>New York Independent System Operator</td>\n",
       "      <td>4567</td>\n",
       "      <td>megawatthours</td>\n",
       "    </tr>\n",
       "    <tr>\n",
       "      <th>...</th>\n",
       "      <td>...</td>\n",
       "      <td>...</td>\n",
       "      <td>...</td>\n",
       "      <td>...</td>\n",
       "      <td>...</td>\n",
       "      <td>...</td>\n",
       "    </tr>\n",
       "    <tr>\n",
       "      <th>2024-03-21 19:00:00</th>\n",
       "      <td>ZONJ</td>\n",
       "      <td>New York City</td>\n",
       "      <td>NYIS</td>\n",
       "      <td>New York Independent System Operator</td>\n",
       "      <td>5767</td>\n",
       "      <td>megawatthours</td>\n",
       "    </tr>\n",
       "    <tr>\n",
       "      <th>2024-03-21 18:00:00</th>\n",
       "      <td>ZONJ</td>\n",
       "      <td>New York City</td>\n",
       "      <td>NYIS</td>\n",
       "      <td>New York Independent System Operator</td>\n",
       "      <td>5816</td>\n",
       "      <td>megawatthours</td>\n",
       "    </tr>\n",
       "    <tr>\n",
       "      <th>2024-03-21 17:00:00</th>\n",
       "      <td>ZONJ</td>\n",
       "      <td>New York City</td>\n",
       "      <td>NYIS</td>\n",
       "      <td>New York Independent System Operator</td>\n",
       "      <td>5852</td>\n",
       "      <td>megawatthours</td>\n",
       "    </tr>\n",
       "    <tr>\n",
       "      <th>2024-03-21 16:00:00</th>\n",
       "      <td>ZONJ</td>\n",
       "      <td>New York City</td>\n",
       "      <td>NYIS</td>\n",
       "      <td>New York Independent System Operator</td>\n",
       "      <td>5896</td>\n",
       "      <td>megawatthours</td>\n",
       "    </tr>\n",
       "    <tr>\n",
       "      <th>2024-03-21 15:00:00</th>\n",
       "      <td>ZONJ</td>\n",
       "      <td>New York City</td>\n",
       "      <td>NYIS</td>\n",
       "      <td>New York Independent System Operator</td>\n",
       "      <td>5920</td>\n",
       "      <td>megawatthours</td>\n",
       "    </tr>\n",
       "  </tbody>\n",
       "</table>\n",
       "<p>336 rows × 6 columns</p>\n",
       "</div>"
      ],
      "text/plain": [
       "                    subba     subba-name parent  \\\n",
       "period                                            \n",
       "2024-04-04 14:00:00  ZONJ  New York City   NYIS   \n",
       "2024-04-04 13:00:00  ZONJ  New York City   NYIS   \n",
       "2024-04-04 12:00:00  ZONJ  New York City   NYIS   \n",
       "2024-04-04 11:00:00  ZONJ  New York City   NYIS   \n",
       "2024-04-04 10:00:00  ZONJ  New York City   NYIS   \n",
       "...                   ...            ...    ...   \n",
       "2024-03-21 19:00:00  ZONJ  New York City   NYIS   \n",
       "2024-03-21 18:00:00  ZONJ  New York City   NYIS   \n",
       "2024-03-21 17:00:00  ZONJ  New York City   NYIS   \n",
       "2024-03-21 16:00:00  ZONJ  New York City   NYIS   \n",
       "2024-03-21 15:00:00  ZONJ  New York City   NYIS   \n",
       "\n",
       "                                              parent-name  value  \\\n",
       "period                                                             \n",
       "2024-04-04 14:00:00  New York Independent System Operator   5752   \n",
       "2024-04-04 13:00:00  New York Independent System Operator   5630   \n",
       "2024-04-04 12:00:00  New York Independent System Operator   5420   \n",
       "2024-04-04 11:00:00  New York Independent System Operator   4989   \n",
       "2024-04-04 10:00:00  New York Independent System Operator   4567   \n",
       "...                                                   ...    ...   \n",
       "2024-03-21 19:00:00  New York Independent System Operator   5767   \n",
       "2024-03-21 18:00:00  New York Independent System Operator   5816   \n",
       "2024-03-21 17:00:00  New York Independent System Operator   5852   \n",
       "2024-03-21 16:00:00  New York Independent System Operator   5896   \n",
       "2024-03-21 15:00:00  New York Independent System Operator   5920   \n",
       "\n",
       "                       value-units  \n",
       "period                              \n",
       "2024-04-04 14:00:00  megawatthours  \n",
       "2024-04-04 13:00:00  megawatthours  \n",
       "2024-04-04 12:00:00  megawatthours  \n",
       "2024-04-04 11:00:00  megawatthours  \n",
       "2024-04-04 10:00:00  megawatthours  \n",
       "...                            ...  \n",
       "2024-03-21 19:00:00  megawatthours  \n",
       "2024-03-21 18:00:00  megawatthours  \n",
       "2024-03-21 17:00:00  megawatthours  \n",
       "2024-03-21 16:00:00  megawatthours  \n",
       "2024-03-21 15:00:00  megawatthours  \n",
       "\n",
       "[336 rows x 6 columns]"
      ]
     },
     "execution_count": 4,
     "metadata": {},
     "output_type": "execute_result"
    }
   ],
   "source": [
    "# Get one mini-batch of data\n",
    "mini_batch_df = df[:max_offset_hours]\n",
    "mini_batch_df"
   ]
  },
  {
   "cell_type": "markdown",
   "metadata": {},
   "source": [
    "**Implement a new sampling strategy** \n",
    "\n",
    "The model is trained on daily data.  We don't have full days so we need to resample 24 hour intervals"
   ]
  },
  {
   "cell_type": "code",
   "execution_count": 5,
   "metadata": {},
   "outputs": [
    {
     "data": {
      "text/html": [
       "<div>\n",
       "<style scoped>\n",
       "    .dataframe tbody tr th:only-of-type {\n",
       "        vertical-align: middle;\n",
       "    }\n",
       "\n",
       "    .dataframe tbody tr th {\n",
       "        vertical-align: top;\n",
       "    }\n",
       "\n",
       "    .dataframe thead th {\n",
       "        text-align: right;\n",
       "    }\n",
       "</style>\n",
       "<table border=\"1\" class=\"dataframe\">\n",
       "  <thead>\n",
       "    <tr style=\"text-align: right;\">\n",
       "      <th></th>\n",
       "      <th>value</th>\n",
       "    </tr>\n",
       "    <tr>\n",
       "      <th>period</th>\n",
       "      <th></th>\n",
       "    </tr>\n",
       "  </thead>\n",
       "  <tbody>\n",
       "    <tr>\n",
       "      <th>2024-04-04 14:00:00</th>\n",
       "      <td>131001</td>\n",
       "    </tr>\n",
       "    <tr>\n",
       "      <th>2024-04-03 14:00:00</th>\n",
       "      <td>126545</td>\n",
       "    </tr>\n",
       "    <tr>\n",
       "      <th>2024-04-02 14:00:00</th>\n",
       "      <td>122018</td>\n",
       "    </tr>\n",
       "    <tr>\n",
       "      <th>2024-04-01 14:00:00</th>\n",
       "      <td>110076</td>\n",
       "    </tr>\n",
       "    <tr>\n",
       "      <th>2024-03-31 14:00:00</th>\n",
       "      <td>109811</td>\n",
       "    </tr>\n",
       "    <tr>\n",
       "      <th>2024-03-30 14:00:00</th>\n",
       "      <td>118276</td>\n",
       "    </tr>\n",
       "    <tr>\n",
       "      <th>2024-03-29 14:00:00</th>\n",
       "      <td>125478</td>\n",
       "    </tr>\n",
       "    <tr>\n",
       "      <th>2024-03-28 14:00:00</th>\n",
       "      <td>125171</td>\n",
       "    </tr>\n",
       "    <tr>\n",
       "      <th>2024-03-27 14:00:00</th>\n",
       "      <td>124573</td>\n",
       "    </tr>\n",
       "    <tr>\n",
       "      <th>2024-03-26 14:00:00</th>\n",
       "      <td>125662</td>\n",
       "    </tr>\n",
       "    <tr>\n",
       "      <th>2024-03-25 14:00:00</th>\n",
       "      <td>120593</td>\n",
       "    </tr>\n",
       "    <tr>\n",
       "      <th>2024-03-24 14:00:00</th>\n",
       "      <td>121841</td>\n",
       "    </tr>\n",
       "    <tr>\n",
       "      <th>2024-03-23 14:00:00</th>\n",
       "      <td>125884</td>\n",
       "    </tr>\n",
       "    <tr>\n",
       "      <th>2024-03-22 14:00:00</th>\n",
       "      <td>130810</td>\n",
       "    </tr>\n",
       "  </tbody>\n",
       "</table>\n",
       "</div>"
      ],
      "text/plain": [
       "                      value\n",
       "period                     \n",
       "2024-04-04 14:00:00  131001\n",
       "2024-04-03 14:00:00  126545\n",
       "2024-04-02 14:00:00  122018\n",
       "2024-04-01 14:00:00  110076\n",
       "2024-03-31 14:00:00  109811\n",
       "2024-03-30 14:00:00  118276\n",
       "2024-03-29 14:00:00  125478\n",
       "2024-03-28 14:00:00  125171\n",
       "2024-03-27 14:00:00  124573\n",
       "2024-03-26 14:00:00  125662\n",
       "2024-03-25 14:00:00  120593\n",
       "2024-03-24 14:00:00  121841\n",
       "2024-03-23 14:00:00  125884\n",
       "2024-03-22 14:00:00  130810"
      ]
     },
     "execution_count": 5,
     "metadata": {},
     "output_type": "execute_result"
    }
   ],
   "source": [
    "chunk_size = 24\n",
    "periods = mini_batch_df.index[::chunk_size]  # Select every chunk_size-th index as the period\n",
    "sums = [mini_batch_df.iloc[i:i + chunk_size]['value'].sum() for i in range(0, len(mini_batch_df), chunk_size)]\n",
    "resampled_df = pd.DataFrame({'period': periods, 'value': sums})\n",
    "resampled_df.set_index('period', inplace=True)\n",
    "resampled_df"
   ]
  },
  {
   "cell_type": "markdown",
   "metadata": {},
   "source": [
    "**implement the resampling strategy into our feature pipeline**"
   ]
  },
  {
   "cell_type": "code",
   "execution_count": 6,
   "metadata": {},
   "outputs": [],
   "source": [
    "# Recalculating features\n",
    "\n",
    "def feature_pipeline_online(mini_batch_df):\n",
    "    \n",
    "    # Resample the last 24 hours relatively\n",
    "    chunk_size = 24\n",
    "    periods = mini_batch_df.index[::chunk_size]  # Select every chunk_size-th index as the period\n",
    "    sums = [mini_batch_df.iloc[i:i + chunk_size]['value'].sum() for i in range(0, len(mini_batch_df), chunk_size)]\n",
    "    resampled_df = pd.DataFrame({'period': periods, 'value': sums})\n",
    "    resampled_df.set_index('period', inplace=True)\n",
    "    resampled_df = resampled_df.sort_index(ascending = True)\n",
    "\n",
    "    batch_df = pd.DataFrame()\n",
    "\n",
    "    # Lagging features\n",
    "    batch_df['lag_1'] = resampled_df['value'].shift(1) # Energy demand -1 day\n",
    "\n",
    "    batch_df['lag_4'] = resampled_df['value'].shift(4) # Energy demand +3 days - 7 days\n",
    "    batch_df['lag_5'] = resampled_df['value'].shift(5) # Energy demand +2 days - 7 days\n",
    "    batch_df['lag_6'] = resampled_df['value'].shift(6) # Energy demand +1 days - 7 days\n",
    "\n",
    "    batch_df['lag_11'] = resampled_df['value'].shift(11) # Energy demand +3 days - 14 days\n",
    "    batch_df['lag_12'] = resampled_df['value'].shift(12) # Energy demand +2 days - 14 days\n",
    "    batch_df['lag_13'] = resampled_df['value'].shift(13) # Energy demand +1 days - 14 days\n",
    "\n",
    "    # Rolling statistics\n",
    "    batch_df['rolling_mean_7'] = resampled_df['value'].rolling(window=7).mean().round(2)\n",
    "    batch_df['rolling_std_7'] = resampled_df['value'].rolling(window=7).std().round(2) \n",
    "    \n",
    "    batch_df = batch_df.dropna()\n",
    "    \n",
    "    return batch_df"
   ]
  },
  {
   "cell_type": "markdown",
   "metadata": {},
   "source": [
    "**Test the new pipeline**"
   ]
  },
  {
   "cell_type": "code",
   "execution_count": 7,
   "metadata": {},
   "outputs": [
    {
     "data": {
      "text/html": [
       "<div>\n",
       "<style scoped>\n",
       "    .dataframe tbody tr th:only-of-type {\n",
       "        vertical-align: middle;\n",
       "    }\n",
       "\n",
       "    .dataframe tbody tr th {\n",
       "        vertical-align: top;\n",
       "    }\n",
       "\n",
       "    .dataframe thead th {\n",
       "        text-align: right;\n",
       "    }\n",
       "</style>\n",
       "<table border=\"1\" class=\"dataframe\">\n",
       "  <thead>\n",
       "    <tr style=\"text-align: right;\">\n",
       "      <th></th>\n",
       "      <th>lag_1</th>\n",
       "      <th>lag_4</th>\n",
       "      <th>lag_5</th>\n",
       "      <th>lag_6</th>\n",
       "      <th>lag_11</th>\n",
       "      <th>lag_12</th>\n",
       "      <th>lag_13</th>\n",
       "      <th>rolling_mean_7</th>\n",
       "      <th>rolling_std_7</th>\n",
       "    </tr>\n",
       "    <tr>\n",
       "      <th>period</th>\n",
       "      <th></th>\n",
       "      <th></th>\n",
       "      <th></th>\n",
       "      <th></th>\n",
       "      <th></th>\n",
       "      <th></th>\n",
       "      <th></th>\n",
       "      <th></th>\n",
       "      <th></th>\n",
       "    </tr>\n",
       "  </thead>\n",
       "  <tbody>\n",
       "    <tr>\n",
       "      <th>2024-04-04 14:00:00</th>\n",
       "      <td>126545.0</td>\n",
       "      <td>109811.0</td>\n",
       "      <td>118276.0</td>\n",
       "      <td>125478.0</td>\n",
       "      <td>121841.0</td>\n",
       "      <td>125884.0</td>\n",
       "      <td>130810.0</td>\n",
       "      <td>120457.86</td>\n",
       "      <td>8182.77</td>\n",
       "    </tr>\n",
       "  </tbody>\n",
       "</table>\n",
       "</div>"
      ],
      "text/plain": [
       "                        lag_1     lag_4     lag_5     lag_6    lag_11  \\\n",
       "period                                                                  \n",
       "2024-04-04 14:00:00  126545.0  109811.0  118276.0  125478.0  121841.0   \n",
       "\n",
       "                       lag_12    lag_13  rolling_mean_7  rolling_std_7  \n",
       "period                                                                  \n",
       "2024-04-04 14:00:00  125884.0  130810.0       120457.86        8182.77  "
      ]
     },
     "execution_count": 7,
     "metadata": {},
     "output_type": "execute_result"
    }
   ],
   "source": [
    "feature_pipeline_online(mini_batch_df)"
   ]
  },
  {
   "cell_type": "markdown",
   "metadata": {},
   "source": [
    "**Finally, let's simulate online feature calculation for a given date**"
   ]
  },
  {
   "cell_type": "code",
   "execution_count": 8,
   "metadata": {},
   "outputs": [
    {
     "data": {
      "text/html": [
       "<div>\n",
       "<style scoped>\n",
       "    .dataframe tbody tr th:only-of-type {\n",
       "        vertical-align: middle;\n",
       "    }\n",
       "\n",
       "    .dataframe tbody tr th {\n",
       "        vertical-align: top;\n",
       "    }\n",
       "\n",
       "    .dataframe thead th {\n",
       "        text-align: right;\n",
       "    }\n",
       "</style>\n",
       "<table border=\"1\" class=\"dataframe\">\n",
       "  <thead>\n",
       "    <tr style=\"text-align: right;\">\n",
       "      <th></th>\n",
       "      <th>lag_1</th>\n",
       "      <th>lag_4</th>\n",
       "      <th>lag_5</th>\n",
       "      <th>lag_6</th>\n",
       "      <th>lag_11</th>\n",
       "      <th>lag_12</th>\n",
       "      <th>lag_13</th>\n",
       "      <th>rolling_mean_7</th>\n",
       "      <th>rolling_std_7</th>\n",
       "    </tr>\n",
       "    <tr>\n",
       "      <th>period</th>\n",
       "      <th></th>\n",
       "      <th></th>\n",
       "      <th></th>\n",
       "      <th></th>\n",
       "      <th></th>\n",
       "      <th></th>\n",
       "      <th></th>\n",
       "      <th></th>\n",
       "      <th></th>\n",
       "    </tr>\n",
       "  </thead>\n",
       "  <tbody>\n",
       "    <tr>\n",
       "      <th>2024-04-03 10:00:00</th>\n",
       "      <td>121369.0</td>\n",
       "      <td>120419.0</td>\n",
       "      <td>126130.0</td>\n",
       "      <td>125423.0</td>\n",
       "      <td>129076.0</td>\n",
       "      <td>130762.0</td>\n",
       "      <td>126434.0</td>\n",
       "      <td>119585.43</td>\n",
       "      <td>7639.02</td>\n",
       "    </tr>\n",
       "  </tbody>\n",
       "</table>\n",
       "</div>"
      ],
      "text/plain": [
       "                        lag_1     lag_4     lag_5     lag_6    lag_11  \\\n",
       "period                                                                  \n",
       "2024-04-03 10:00:00  121369.0  120419.0  126130.0  125423.0  129076.0   \n",
       "\n",
       "                       lag_12    lag_13  rolling_mean_7  rolling_std_7  \n",
       "period                                                                  \n",
       "2024-04-03 10:00:00  130762.0  126434.0       119585.43        7639.02  "
      ]
     },
     "execution_count": 8,
     "metadata": {},
     "output_type": "execute_result"
    }
   ],
   "source": [
    "# try with some new data\n",
    "datetime = \"2024-04-03 10:00:00\"\n",
    "csv_file_path = 'data/energy_data_new.csv'\n",
    "\n",
    "# This could also be a SQL statement\n",
    "mini_batch_df = (pd.read_csv(csv_file_path, parse_dates=['period'])\n",
    "      .set_index('period')\n",
    "      .sort_index(ascending=False)\n",
    "      .query(\"period <= @datetime\"))[:max_offset_hours]\n",
    "\n",
    "# Process batch on the fly\n",
    "feature_pipeline_online(mini_batch_df)"
   ]
  },
  {
   "cell_type": "markdown",
   "metadata": {},
   "source": [
    "## Frequency considerations"
   ]
  },
  {
   "cell_type": "markdown",
   "metadata": {},
   "source": [
    "**One consideration is the time it takes for the data to load**\n",
    "\n",
    "Typically, you'll have an overhead for batch data I/O operations"
   ]
  },
  {
   "cell_type": "code",
   "execution_count": 19,
   "metadata": {},
   "outputs": [
    {
     "name": "stdout",
     "output_type": "stream",
     "text": [
      "Time to read data: 0.010 seconds\n"
     ]
    }
   ],
   "source": [
    "import pandas as pd\n",
    "import time\n",
    "import yaml\n",
    "\n",
    "# Load offset from yaml\n",
    "yaml_file_path = 'feature_store/config_v1.yaml'\n",
    "with open(yaml_file_path, 'r') as file:\n",
    "    config = yaml.safe_load(file)\n",
    "max_offset_days = int(config['feature_store']['feature_offset'])\n",
    "max_offset_hours = (max_offset_days + 1) * 24 \n",
    "\n",
    "# Measure time to read data\n",
    "start_time = time.time()\n",
    "\n",
    "datetime = \"2024-04-03 10:00:00\"\n",
    "csv_file_path = 'data/energy_data_new.csv'\n",
    "\n",
    "# This could also be a SQL statement\n",
    "mini_batch_df = (pd.read_csv(csv_file_path, parse_dates=['period'])\n",
    "      .set_index('period')\n",
    "      .sort_index(ascending=False)\n",
    "      .query(\"period <= @datetime\"))[:max_offset_hours]\n",
    "\n",
    "elapsed_time = time.time() - start_time\n",
    "\n",
    "print(f\"Time to read data: {elapsed_time:.3f} seconds\")"
   ]
  },
  {
   "cell_type": "markdown",
   "metadata": {},
   "source": [
    "**Second consideration: Time for the feature processing**\n",
    "\n",
    "For large datasets, moving data is typically much slower than processing data, because processing data can often be done in-memory or we can perform cache operations."
   ]
  },
  {
   "cell_type": "code",
   "execution_count": 20,
   "metadata": {},
   "outputs": [
    {
     "name": "stdout",
     "output_type": "stream",
     "text": [
      "Time to read data: 0.008 seconds\n"
     ]
    }
   ],
   "source": [
    "start_time = time.time()\n",
    "\n",
    "from scripts import feature_processing\n",
    "\n",
    "feature_processing.feature_pipeline_online(mini_batch_df)\n",
    "\n",
    "elapsed_time = time.time() - start_time\n",
    "\n",
    "print(f\"Time to process batch: {elapsed_time:.3f} seconds\")"
   ]
  },
  {
   "cell_type": "markdown",
   "metadata": {},
   "source": [
    "**Remember:**\n",
    "\n",
    "The frequency at which you can run your batch pipeline is constrained by the time it takes to load your data and and to process it – and of course the given availability of your data.\n",
    "\n",
    "So far, we're dealing just with one data source!"
   ]
  },
  {
   "cell_type": "markdown",
   "metadata": {},
   "source": [
    "## Online Prediction"
   ]
  },
  {
   "cell_type": "markdown",
   "metadata": {},
   "source": [
    "**Let's simulate new data coming in**\n",
    "\n",
    "(This data was not in the training set)"
   ]
  },
  {
   "cell_type": "code",
   "execution_count": 1,
   "metadata": {},
   "outputs": [
    {
     "data": {
      "text/html": [
       "<div>\n",
       "<style scoped>\n",
       "    .dataframe tbody tr th:only-of-type {\n",
       "        vertical-align: middle;\n",
       "    }\n",
       "\n",
       "    .dataframe tbody tr th {\n",
       "        vertical-align: top;\n",
       "    }\n",
       "\n",
       "    .dataframe thead th {\n",
       "        text-align: right;\n",
       "    }\n",
       "</style>\n",
       "<table border=\"1\" class=\"dataframe\">\n",
       "  <thead>\n",
       "    <tr style=\"text-align: right;\">\n",
       "      <th></th>\n",
       "      <th>lag_1</th>\n",
       "      <th>lag_4</th>\n",
       "      <th>lag_5</th>\n",
       "      <th>lag_6</th>\n",
       "      <th>lag_11</th>\n",
       "      <th>lag_12</th>\n",
       "      <th>lag_13</th>\n",
       "      <th>rolling_mean_7</th>\n",
       "      <th>rolling_std_7</th>\n",
       "    </tr>\n",
       "    <tr>\n",
       "      <th>period</th>\n",
       "      <th></th>\n",
       "      <th></th>\n",
       "      <th></th>\n",
       "      <th></th>\n",
       "      <th></th>\n",
       "      <th></th>\n",
       "      <th></th>\n",
       "      <th></th>\n",
       "      <th></th>\n",
       "    </tr>\n",
       "  </thead>\n",
       "  <tbody>\n",
       "    <tr>\n",
       "      <th>2024-04-05 10:00:00</th>\n",
       "      <td>130946.0</td>\n",
       "      <td>106949.0</td>\n",
       "      <td>111094.0</td>\n",
       "      <td>120419.0</td>\n",
       "      <td>117601.0</td>\n",
       "      <td>122134.0</td>\n",
       "      <td>129076.0</td>\n",
       "      <td>120358.0</td>\n",
       "      <td>8558.07</td>\n",
       "    </tr>\n",
       "  </tbody>\n",
       "</table>\n",
       "</div>"
      ],
      "text/plain": [
       "                        lag_1     lag_4     lag_5     lag_6    lag_11  \\\n",
       "period                                                                  \n",
       "2024-04-05 10:00:00  130946.0  106949.0  111094.0  120419.0  117601.0   \n",
       "\n",
       "                       lag_12    lag_13  rolling_mean_7  rolling_std_7  \n",
       "period                                                                  \n",
       "2024-04-05 10:00:00  122134.0  129076.0        120358.0        8558.07  "
      ]
     },
     "execution_count": 1,
     "metadata": {},
     "output_type": "execute_result"
    }
   ],
   "source": [
    "import pandas as pd\n",
    "from scripts import feature_processing\n",
    "import yaml\n",
    "\n",
    "yaml_file_path = 'feature_store/config_v1.yaml'\n",
    "with open(yaml_file_path, 'r') as file:\n",
    "    config = yaml.safe_load(file)\n",
    "max_offset_days = int(config['feature_store']['feature_offset'])\n",
    "max_offset_hours = (max_offset_days + 1) * 24 \n",
    "\n",
    "datetime = \"2024-04-05 10:00:00\"\n",
    "csv_file_path = 'data/energy_data_new.csv'\n",
    "\n",
    "mini_batch_df = (pd.read_csv(csv_file_path, parse_dates=['period'])\n",
    "      .set_index('period')\n",
    "      .sort_index(ascending=False)\n",
    "      .query(\"period <= @datetime\"))[:max_offset_hours]\n",
    "\n",
    "online_features_df = feature_processing.feature_pipeline_online(mini_batch_df)\n",
    "online_features_df"
   ]
  },
  {
   "cell_type": "markdown",
   "metadata": {},
   "source": [
    "**Load our model for next-day prediction trained on batch data and predict the next day**"
   ]
  },
  {
   "cell_type": "code",
   "execution_count": 2,
   "metadata": {},
   "outputs": [
    {
     "data": {
      "text/plain": [
       "array([129164.41], dtype=float32)"
      ]
     },
     "execution_count": 2,
     "metadata": {},
     "output_type": "execute_result"
    }
   ],
   "source": [
    "import joblib\n",
    "import xgboost\n",
    "\n",
    "filename = f'models/batch_demand_forecaster_model_1.pkl'\n",
    "model = joblib.load(filename)\n",
    "prediction = model.predict(online_features_df)\n",
    "prediction"
   ]
  },
  {
   "cell_type": "markdown",
   "metadata": {},
   "source": [
    "**How good is this prediction?**\n",
    "\n",
    "Load the next 24 hours"
   ]
  },
  {
   "cell_type": "code",
   "execution_count": 3,
   "metadata": {},
   "outputs": [
    {
     "data": {
      "text/plain": [
       "period\n",
       "2024-04-05 10:00:00    4434\n",
       "2024-04-05 11:00:00    4867\n",
       "2024-04-05 12:00:00    5249\n",
       "2024-04-05 13:00:00    5462\n",
       "2024-04-05 14:00:00    5588\n",
       "2024-04-05 15:00:00    5613\n",
       "2024-04-05 16:00:00    5717\n",
       "2024-04-05 17:00:00    5719\n",
       "2024-04-05 18:00:00    5650\n",
       "2024-04-05 19:00:00    5614\n",
       "2024-04-05 20:00:00    5620\n",
       "2024-04-05 21:00:00    5685\n",
       "2024-04-05 22:00:00    5691\n",
       "2024-04-05 23:00:00    5574\n",
       "2024-04-06 00:00:00    5566\n",
       "2024-04-06 01:00:00    5498\n",
       "2024-04-06 02:00:00    5348\n",
       "2024-04-06 03:00:00    5110\n",
       "2024-04-06 04:00:00    4844\n",
       "2024-04-06 05:00:00    4598\n",
       "2024-04-06 06:00:00    4418\n",
       "2024-04-06 07:00:00    4279\n",
       "2024-04-06 08:00:00    4205\n",
       "2024-04-06 09:00:00    4186\n",
       "Name: value, dtype: int64"
      ]
     },
     "execution_count": 3,
     "metadata": {},
     "output_type": "execute_result"
    }
   ],
   "source": [
    "new_data = (pd.read_csv(csv_file_path, parse_dates=['period'])\n",
    "            .set_index('period')\n",
    "            .sort_index()[datetime:][:24]['value'])\n",
    "new_data"
   ]
  },
  {
   "cell_type": "markdown",
   "metadata": {},
   "source": [
    "**Find the true value by summarizing them**"
   ]
  },
  {
   "cell_type": "code",
   "execution_count": 4,
   "metadata": {},
   "outputs": [
    {
     "data": {
      "text/plain": [
       "np.int64(124535)"
      ]
     },
     "execution_count": 4,
     "metadata": {},
     "output_type": "execute_result"
    }
   ],
   "source": [
    "true_value = new_data.sum()\n",
    "\n",
    "true_value"
   ]
  },
  {
   "cell_type": "markdown",
   "metadata": {},
   "source": [
    "For a near-time workflow, we could schedule these predictions to happen every hour and they would give us the forecast for the next 24 hours."
   ]
  }
 ],
 "metadata": {
  "kernelspec": {
   "display_name": "Python 3",
   "language": "python",
   "name": "python3"
  },
  "language_info": {
   "codemirror_mode": {
    "name": "ipython",
    "version": 3
   },
   "file_extension": ".py",
   "mimetype": "text/x-python",
   "name": "python",
   "nbconvert_exporter": "python",
   "pygments_lexer": "ipython3",
   "version": "3.10.13"
  }
 },
 "nbformat": 4,
 "nbformat_minor": 2
}
