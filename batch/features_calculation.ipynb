{
  "cells": [
    {
      "cell_type": "markdown",
      "metadata": {
        "id": "cq6pcTxV-Mgj"
      },
      "source": [
        "# Batch Features\n",
        "\n",
        "## Problem Statement\n",
        "\n",
        "Scenario: We're a utility company providing energy to New York City. \n",
        "\n",
        "Goal: Every Friday, we want to accurately predict the energy demand for each working day of the next week so that we can optimally plan our resources.\n",
        "\n",
        "Task: We will look at historic energy demand and create batch features that we can use to predict the future demand."
      ]
    },
    {
      "cell_type": "markdown",
      "metadata": {
        "id": "w1fitgFU-RGK"
      },
      "source": [
        "## Prerequisites"
      ]
    },
    {
      "cell_type": "code",
      "execution_count": 2,
      "metadata": {
        "colab": {
          "base_uri": "https://localhost:8080/"
        },
        "id": "nKqaYAQ5-Cbj",
        "outputId": "f01ceaa5-4478-4bf9-87e7-6ec31d02d600"
      },
      "outputs": [],
      "source": [
        "import pandas as pd"
      ]
    },
    {
      "cell_type": "markdown",
      "metadata": {
        "id": "A71vUWQC-a68"
      },
      "source": [
        "## Data\n",
        "\n",
        "Let's explore our data!"
      ]
    }
  ],
  "metadata": {
    "colab": {
      "provenance": []
    },
    "kernelspec": {
      "display_name": "Python 3",
      "name": "python3"
    },
    "language_info": {
      "codemirror_mode": {
        "name": "ipython",
        "version": 3
      },
      "file_extension": ".py",
      "mimetype": "text/x-python",
      "name": "python",
      "nbconvert_exporter": "python",
      "pygments_lexer": "ipython3",
      "version": "3.10.13"
    }
  },
  "nbformat": 4,
  "nbformat_minor": 0
}
