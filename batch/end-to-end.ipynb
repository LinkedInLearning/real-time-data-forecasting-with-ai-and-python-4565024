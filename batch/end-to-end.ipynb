{
 "cells": [
  {
   "cell_type": "markdown",
   "metadata": {},
   "source": [
    "# End-to-End Example for Near-Time Forecasting\n",
    "(This script could be run on a schedule, such as every three hours in this use case.)"
   ]
  },
  {
   "cell_type": "code",
   "execution_count": 2,
   "metadata": {},
   "outputs": [
    {
     "data": {
      "text/plain": [
       "array([130025.64], dtype=float32)"
      ]
     },
     "execution_count": 2,
     "metadata": {},
     "output_type": "execute_result"
    }
   ],
   "source": [
    "import yaml\n",
    "import joblib\n",
    "import xgboost\n",
    "import pandas as pd\n",
    "from scripts import feature_processing\n",
    "\n",
    "# Step 1: Import the config variables -- \n",
    "yaml_file_path = 'feature_store/config_v1.yaml'\n",
    "with open(yaml_file_path, 'r') as file:\n",
    "    config = yaml.safe_load(file)\n",
    "max_offset_days = int(config['feature_store']['feature_offset'])\n",
    "max_offset_hours = (max_offset_days + 1) * 24 \n",
    "datetime = \"2024-04-05 15:00:00\" # could fetch the current hour, or the latest available data\n",
    "\n",
    "\n",
    "# Step 2: Fetch a Mini-Batch of data -- \n",
    "csv_file_path = 'data/energy_data_new.csv' # could be a data warehouse\n",
    "\n",
    "# Could also be a SQL statement:\n",
    "mini_batch_df = (pd.read_csv(csv_file_path, parse_dates=['period'])\n",
    "      .set_index('period')\n",
    "      .sort_index(ascending=False)\n",
    "      .query(\"period <= @datetime\"))[:max_offset_hours]\n",
    "\n",
    "# Step 3: Run the feature pipeline ---\n",
    "online_features_df = feature_processing.feature_pipeline_online(mini_batch_df) # could be an API\n",
    "\n",
    "# Step 4: Get the predictions ---\n",
    "filename = 'models/batch_demand_forecaster_model_1.pkl' #  Could be an API\n",
    "model = joblib.load(filename)\n",
    "prediction = model.predict(online_features_df)\n",
    "prediction"
   ]
  },
  {
   "cell_type": "markdown",
   "metadata": {},
   "source": [
    "Predictions can be stored or used for near-time decision making"
   ]
  }
 ],
 "metadata": {
  "kernelspec": {
   "display_name": "Python 3",
   "language": "python",
   "name": "python3"
  },
  "language_info": {
   "codemirror_mode": {
    "name": "ipython",
    "version": 3
   },
   "file_extension": ".py",
   "mimetype": "text/x-python",
   "name": "python",
   "nbconvert_exporter": "python",
   "pygments_lexer": "ipython3",
   "version": "3.10.12"
  }
 },
 "nbformat": 4,
 "nbformat_minor": 2
}
