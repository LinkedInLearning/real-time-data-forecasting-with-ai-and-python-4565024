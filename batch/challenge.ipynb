{
 "cells": [
  {
   "cell_type": "markdown",
   "metadata": {},
   "source": [
    "# Challenge\n",
    "\n",
    "Let's add a new feature:\n",
    "\n",
    "- **Day of Week (Categorical)**\n",
    "\n",
    "Consider these questions:\n",
    "\n",
    "- How would you calculate this feature?\n",
    "- How would you represent it in the data?\n",
    "- Where would you store this feature?\n",
    "- How would this feature affect your pipeline? What would you need to rework?"
   ]
  }
 ],
 "metadata": {
  "kernelspec": {
   "display_name": "Python 3",
   "language": "python",
   "name": "python3"
  },
  "language_info": {
   "codemirror_mode": {
    "name": "ipython",
    "version": 3
   },
   "file_extension": ".py",
   "mimetype": "text/x-python",
   "name": "python",
   "nbconvert_exporter": "python",
   "pygments_lexer": "ipython3",
   "version": "3.10.13"
  }
 },
 "nbformat": 4,
 "nbformat_minor": 2
}
