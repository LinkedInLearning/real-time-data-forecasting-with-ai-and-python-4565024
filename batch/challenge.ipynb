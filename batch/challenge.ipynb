{
 "cells": [
  {
   "cell_type": "markdown",
   "metadata": {},
   "source": [
    "# Challenge\n",
    "\n",
    "Let's add a new feature:\n",
    "\n",
    "- **Day of Week (Categorical)**\n",
    "\n",
    "Consider these questions:\n",
    "\n",
    "- How would you calculate this feature?\n",
    "- How would you represent it in the data?\n",
    "- Where would you store this feature?\n",
    "- How would this feature affect your pipeline? What would you need to rework?"
   ]
  },
  {
   "cell_type": "markdown",
   "metadata": {},
   "source": [
    "## Calculation"
   ]
  },
  {
   "cell_type": "markdown",
   "metadata": {},
   "source": [
    "**Aggregate our data to a daily level**"
   ]
  },
  {
   "cell_type": "code",
   "execution_count": 1,
   "metadata": {},
   "outputs": [
    {
     "data": {
      "text/html": [
       "<div>\n",
       "<style scoped>\n",
       "    .dataframe tbody tr th:only-of-type {\n",
       "        vertical-align: middle;\n",
       "    }\n",
       "\n",
       "    .dataframe tbody tr th {\n",
       "        vertical-align: top;\n",
       "    }\n",
       "\n",
       "    .dataframe thead th {\n",
       "        text-align: right;\n",
       "    }\n",
       "</style>\n",
       "<table border=\"1\" class=\"dataframe\">\n",
       "  <thead>\n",
       "    <tr style=\"text-align: right;\">\n",
       "      <th></th>\n",
       "      <th>value</th>\n",
       "    </tr>\n",
       "    <tr>\n",
       "      <th>period</th>\n",
       "      <th></th>\n",
       "    </tr>\n",
       "  </thead>\n",
       "  <tbody>\n",
       "    <tr>\n",
       "      <th>2024-01-01</th>\n",
       "      <td>116406</td>\n",
       "    </tr>\n",
       "    <tr>\n",
       "      <th>2024-01-02</th>\n",
       "      <td>128866</td>\n",
       "    </tr>\n",
       "    <tr>\n",
       "      <th>2024-01-03</th>\n",
       "      <td>131883</td>\n",
       "    </tr>\n",
       "    <tr>\n",
       "      <th>2024-01-04</th>\n",
       "      <td>131606</td>\n",
       "    </tr>\n",
       "    <tr>\n",
       "      <th>2024-01-05</th>\n",
       "      <td>136960</td>\n",
       "    </tr>\n",
       "    <tr>\n",
       "      <th>...</th>\n",
       "      <td>...</td>\n",
       "    </tr>\n",
       "    <tr>\n",
       "      <th>2024-03-26</th>\n",
       "      <td>125493</td>\n",
       "    </tr>\n",
       "    <tr>\n",
       "      <th>2024-03-27</th>\n",
       "      <td>125867</td>\n",
       "    </tr>\n",
       "    <tr>\n",
       "      <th>2024-03-28</th>\n",
       "      <td>125577</td>\n",
       "    </tr>\n",
       "    <tr>\n",
       "      <th>2024-03-29</th>\n",
       "      <td>120926</td>\n",
       "    </tr>\n",
       "    <tr>\n",
       "      <th>2024-03-30</th>\n",
       "      <td>113774</td>\n",
       "    </tr>\n",
       "  </tbody>\n",
       "</table>\n",
       "<p>90 rows × 1 columns</p>\n",
       "</div>"
      ],
      "text/plain": [
       "             value\n",
       "period            \n",
       "2024-01-01  116406\n",
       "2024-01-02  128866\n",
       "2024-01-03  131883\n",
       "2024-01-04  131606\n",
       "2024-01-05  136960\n",
       "...            ...\n",
       "2024-03-26  125493\n",
       "2024-03-27  125867\n",
       "2024-03-28  125577\n",
       "2024-03-29  120926\n",
       "2024-03-30  113774\n",
       "\n",
       "[90 rows x 1 columns]"
      ]
     },
     "execution_count": 1,
     "metadata": {},
     "output_type": "execute_result"
    }
   ],
   "source": [
    "import pandas as pd\n",
    "\n",
    "csv_file_path = 'data/energy_data.csv'\n",
    "df = pd.read_csv(csv_file_path, parse_dates=['period'])\n",
    "df.set_index('period', inplace=True)\n",
    "df_daily = df.resample('D').sum(\"value\")\n",
    "df_daily"
   ]
  },
  {
   "cell_type": "markdown",
   "metadata": {},
   "source": [
    "**Version 1: Numerical representation**\n",
    "\n",
    "Straightforward, but not necessarily ideal - you can only learn one parameter and it's actually a nominal scale, not ratio"
   ]
  },
  {
   "cell_type": "code",
   "execution_count": 2,
   "metadata": {},
   "outputs": [
    {
     "data": {
      "text/html": [
       "<div>\n",
       "<style scoped>\n",
       "    .dataframe tbody tr th:only-of-type {\n",
       "        vertical-align: middle;\n",
       "    }\n",
       "\n",
       "    .dataframe tbody tr th {\n",
       "        vertical-align: top;\n",
       "    }\n",
       "\n",
       "    .dataframe thead th {\n",
       "        text-align: right;\n",
       "    }\n",
       "</style>\n",
       "<table border=\"1\" class=\"dataframe\">\n",
       "  <thead>\n",
       "    <tr style=\"text-align: right;\">\n",
       "      <th></th>\n",
       "      <th>day_of_week</th>\n",
       "    </tr>\n",
       "  </thead>\n",
       "  <tbody>\n",
       "    <tr>\n",
       "      <th>0</th>\n",
       "      <td>0</td>\n",
       "    </tr>\n",
       "    <tr>\n",
       "      <th>1</th>\n",
       "      <td>1</td>\n",
       "    </tr>\n",
       "    <tr>\n",
       "      <th>2</th>\n",
       "      <td>2</td>\n",
       "    </tr>\n",
       "    <tr>\n",
       "      <th>3</th>\n",
       "      <td>3</td>\n",
       "    </tr>\n",
       "    <tr>\n",
       "      <th>4</th>\n",
       "      <td>4</td>\n",
       "    </tr>\n",
       "    <tr>\n",
       "      <th>5</th>\n",
       "      <td>5</td>\n",
       "    </tr>\n",
       "    <tr>\n",
       "      <th>6</th>\n",
       "      <td>6</td>\n",
       "    </tr>\n",
       "    <tr>\n",
       "      <th>7</th>\n",
       "      <td>0</td>\n",
       "    </tr>\n",
       "    <tr>\n",
       "      <th>8</th>\n",
       "      <td>1</td>\n",
       "    </tr>\n",
       "    <tr>\n",
       "      <th>9</th>\n",
       "      <td>2</td>\n",
       "    </tr>\n",
       "  </tbody>\n",
       "</table>\n",
       "</div>"
      ],
      "text/plain": [
       "   day_of_week\n",
       "0            0\n",
       "1            1\n",
       "2            2\n",
       "3            3\n",
       "4            4\n",
       "5            5\n",
       "6            6\n",
       "7            0\n",
       "8            1\n",
       "9            2"
      ]
     },
     "execution_count": 2,
     "metadata": {},
     "output_type": "execute_result"
    }
   ],
   "source": [
    "batch_df = pd.DataFrame()\n",
    "batch_df['day_of_week'] = df_daily.index.dayofweek\n",
    "batch_df.head(10)"
   ]
  },
  {
   "cell_type": "markdown",
   "metadata": {},
   "source": [
    "**Version 2: One-Hot Encoding / Dummy Variables**\n",
    "\n",
    "Lets you train one parameter per category, but increases complexity of data (new columns = category levels)"
   ]
  },
  {
   "cell_type": "code",
   "execution_count": 3,
   "metadata": {},
   "outputs": [
    {
     "data": {
      "text/html": [
       "<div>\n",
       "<style scoped>\n",
       "    .dataframe tbody tr th:only-of-type {\n",
       "        vertical-align: middle;\n",
       "    }\n",
       "\n",
       "    .dataframe tbody tr th {\n",
       "        vertical-align: top;\n",
       "    }\n",
       "\n",
       "    .dataframe thead th {\n",
       "        text-align: right;\n",
       "    }\n",
       "</style>\n",
       "<table border=\"1\" class=\"dataframe\">\n",
       "  <thead>\n",
       "    <tr style=\"text-align: right;\">\n",
       "      <th></th>\n",
       "      <th>0</th>\n",
       "      <th>1</th>\n",
       "      <th>2</th>\n",
       "      <th>3</th>\n",
       "      <th>4</th>\n",
       "      <th>5</th>\n",
       "      <th>6</th>\n",
       "    </tr>\n",
       "  </thead>\n",
       "  <tbody>\n",
       "    <tr>\n",
       "      <th>0</th>\n",
       "      <td>1</td>\n",
       "      <td>0</td>\n",
       "      <td>0</td>\n",
       "      <td>0</td>\n",
       "      <td>0</td>\n",
       "      <td>0</td>\n",
       "      <td>0</td>\n",
       "    </tr>\n",
       "    <tr>\n",
       "      <th>1</th>\n",
       "      <td>0</td>\n",
       "      <td>1</td>\n",
       "      <td>0</td>\n",
       "      <td>0</td>\n",
       "      <td>0</td>\n",
       "      <td>0</td>\n",
       "      <td>0</td>\n",
       "    </tr>\n",
       "    <tr>\n",
       "      <th>2</th>\n",
       "      <td>0</td>\n",
       "      <td>0</td>\n",
       "      <td>1</td>\n",
       "      <td>0</td>\n",
       "      <td>0</td>\n",
       "      <td>0</td>\n",
       "      <td>0</td>\n",
       "    </tr>\n",
       "    <tr>\n",
       "      <th>3</th>\n",
       "      <td>0</td>\n",
       "      <td>0</td>\n",
       "      <td>0</td>\n",
       "      <td>1</td>\n",
       "      <td>0</td>\n",
       "      <td>0</td>\n",
       "      <td>0</td>\n",
       "    </tr>\n",
       "    <tr>\n",
       "      <th>4</th>\n",
       "      <td>0</td>\n",
       "      <td>0</td>\n",
       "      <td>0</td>\n",
       "      <td>0</td>\n",
       "      <td>1</td>\n",
       "      <td>0</td>\n",
       "      <td>0</td>\n",
       "    </tr>\n",
       "    <tr>\n",
       "      <th>...</th>\n",
       "      <td>...</td>\n",
       "      <td>...</td>\n",
       "      <td>...</td>\n",
       "      <td>...</td>\n",
       "      <td>...</td>\n",
       "      <td>...</td>\n",
       "      <td>...</td>\n",
       "    </tr>\n",
       "    <tr>\n",
       "      <th>85</th>\n",
       "      <td>0</td>\n",
       "      <td>1</td>\n",
       "      <td>0</td>\n",
       "      <td>0</td>\n",
       "      <td>0</td>\n",
       "      <td>0</td>\n",
       "      <td>0</td>\n",
       "    </tr>\n",
       "    <tr>\n",
       "      <th>86</th>\n",
       "      <td>0</td>\n",
       "      <td>0</td>\n",
       "      <td>1</td>\n",
       "      <td>0</td>\n",
       "      <td>0</td>\n",
       "      <td>0</td>\n",
       "      <td>0</td>\n",
       "    </tr>\n",
       "    <tr>\n",
       "      <th>87</th>\n",
       "      <td>0</td>\n",
       "      <td>0</td>\n",
       "      <td>0</td>\n",
       "      <td>1</td>\n",
       "      <td>0</td>\n",
       "      <td>0</td>\n",
       "      <td>0</td>\n",
       "    </tr>\n",
       "    <tr>\n",
       "      <th>88</th>\n",
       "      <td>0</td>\n",
       "      <td>0</td>\n",
       "      <td>0</td>\n",
       "      <td>0</td>\n",
       "      <td>1</td>\n",
       "      <td>0</td>\n",
       "      <td>0</td>\n",
       "    </tr>\n",
       "    <tr>\n",
       "      <th>89</th>\n",
       "      <td>0</td>\n",
       "      <td>0</td>\n",
       "      <td>0</td>\n",
       "      <td>0</td>\n",
       "      <td>0</td>\n",
       "      <td>1</td>\n",
       "      <td>0</td>\n",
       "    </tr>\n",
       "  </tbody>\n",
       "</table>\n",
       "<p>90 rows × 7 columns</p>\n",
       "</div>"
      ],
      "text/plain": [
       "    0  1  2  3  4  5  6\n",
       "0   1  0  0  0  0  0  0\n",
       "1   0  1  0  0  0  0  0\n",
       "2   0  0  1  0  0  0  0\n",
       "3   0  0  0  1  0  0  0\n",
       "4   0  0  0  0  1  0  0\n",
       ".. .. .. .. .. .. .. ..\n",
       "85  0  1  0  0  0  0  0\n",
       "86  0  0  1  0  0  0  0\n",
       "87  0  0  0  1  0  0  0\n",
       "88  0  0  0  0  1  0  0\n",
       "89  0  0  0  0  0  1  0\n",
       "\n",
       "[90 rows x 7 columns]"
      ]
     },
     "execution_count": 3,
     "metadata": {},
     "output_type": "execute_result"
    }
   ],
   "source": [
    "pd.get_dummies(batch_df['day_of_week'], dtype = int)"
   ]
  },
  {
   "cell_type": "markdown",
   "metadata": {},
   "source": [
    "## Storing the feature"
   ]
  },
  {
   "cell_type": "markdown",
   "metadata": {},
   "source": [
    "**Create a new feature store YAML with the new feature**\n",
    "\n",
    "Note: ideally, just create a feature view (https://feast.dev/)"
   ]
  },
  {
   "cell_type": "code",
   "execution_count": 4,
   "metadata": {},
   "outputs": [],
   "source": [
    "import os\n",
    "import yaml\n",
    "# Directory for feature store\n",
    "directory = \"feature_store\"\n",
    "if not os.path.exists(directory):\n",
    "    os.makedirs(directory)\n",
    "\n",
    "# Feature definitions\n",
    "id = \"v2\"\n",
    "config_data = {\n",
    "    'feature_store': {\n",
    "        'id': f\"{id}\",\n",
    "        'latest_feature': \"1999-01-01\",\n",
    "        'latest_target': \"1999-01-01\",\n",
    "        'feature_offset': \"13\",\n",
    "        'target_offset': \"3\",\n",
    "        'features_path': f\"feature_store/features_{id}.csv\",\n",
    "        'targets_path': f\"feature_store/targets_v1.csv\",\n",
    "        'schema': {\n",
    "            'features': [\n",
    "                {'name': 'lag_1', 'type': 'float'},\n",
    "                {'name': 'lag_4', 'type': 'float'},\n",
    "                {'name': 'lag_5', 'type': 'float'},\n",
    "                {'name': 'lag_6', 'type': 'float'},\n",
    "                {'name': 'lag_11', 'type': 'float'},\n",
    "                {'name': 'lag_12', 'type': 'float'},\n",
    "                {'name': 'lag_13', 'type': 'float'},\n",
    "                {'name': 'rolling_mean_7', 'type': 'float'},\n",
    "                {'name': 'rolling_std_7', 'type': 'float'},\n",
    "                {'name': 'day_of_week', 'type': 'int'} # new\n",
    "\n",
    "            ],\n",
    "            'targets': [\n",
    "                {'name': 'target_1d', 'type': 'float'},\n",
    "                {'name': 'target_2d', 'type': 'float'},\n",
    "                {'name': 'target_3d', 'type': 'float'}\n",
    "            ]\n",
    "        }\n",
    "    }\n",
    "}\n",
    "\n",
    "# Path to the YAML configuration file\n",
    "yaml_file_path = os.path.join(directory, f'config_{id}.yaml')\n",
    "\n",
    "# Write the configuration data to a YAML file\n",
    "with open(yaml_file_path, 'w') as file:\n",
    "    yaml.dump(config_data, file, default_flow_style=False)"
   ]
  },
  {
   "cell_type": "markdown",
   "metadata": {},
   "source": [
    "**Update the feature pipeline by adding the new calculation**"
   ]
  },
  {
   "cell_type": "code",
   "execution_count": 5,
   "metadata": {},
   "outputs": [],
   "source": [
    "def feature_pipeline(energy_data):\n",
    "    df_daily = energy_data.resample('D').sum(\"value\")\n",
    "\n",
    "    batch_df = pd.DataFrame()\n",
    "\n",
    "    # Lagging features\n",
    "    batch_df['lag_1'] = df_daily['value'].shift(1) # Energy demand -1 day\n",
    "\n",
    "    batch_df['lag_4'] = df_daily['value'].shift(4) # Energy demand +3 days - 7 days\n",
    "    batch_df['lag_5'] = df_daily['value'].shift(5) # Energy demand +2 days - 7 days\n",
    "    batch_df['lag_6'] = df_daily['value'].shift(6) # Energy demand +1 days - 7 days\n",
    "\n",
    "    batch_df['lag_11'] = df_daily['value'].shift(11) # Energy demand +3 days - 14 days\n",
    "    batch_df['lag_12'] = df_daily['value'].shift(12) # Energy demand +2 days - 14 days\n",
    "    batch_df['lag_13'] = df_daily['value'].shift(13) # Energy demand +1 days - 14 days\n",
    "\n",
    "    # Rolling statistics\n",
    "    batch_df['rolling_mean_7'] = df_daily['value'].rolling(window=7).mean().round(2)\n",
    "    batch_df['rolling_std_7'] = df_daily['value'].rolling(window=7).std().round(2)\n",
    "\n",
    "    # Day of week\n",
    "    batch_df['day_of_week'] = df_daily.index.dayofweek # new\n",
    "    \n",
    "    batch_df = batch_df.dropna()\n",
    "\n",
    "    return batch_df"
   ]
  },
  {
   "cell_type": "markdown",
   "metadata": {},
   "source": [
    "**Populate the new feature store with data from the new pipeline**"
   ]
  },
  {
   "cell_type": "code",
   "execution_count": 6,
   "metadata": {},
   "outputs": [
    {
     "name": "stdout",
     "output_type": "stream",
     "text": [
      "Feature store updated with last date 2024-03-30 00:00:00\n"
     ]
    }
   ],
   "source": [
    "from scripts import feature_store\n",
    "# Rebuild the feature store\n",
    "batch_df = feature_pipeline(df)\n",
    "feature_store.update_feature_store(batch_df, yaml_file_path)"
   ]
  },
  {
   "cell_type": "markdown",
   "metadata": {},
   "source": [
    "**Retrain the model given the new feature**"
   ]
  },
  {
   "cell_type": "code",
   "execution_count": 7,
   "metadata": {},
   "outputs": [
    {
     "name": "stdout",
     "output_type": "stream",
     "text": [
      "Last mean RMSE: 6988.235825914405\n",
      "Last mean RMSE: 7208.114646756362\n",
      "Last mean RMSE: 7770.229219022871\n"
     ]
    }
   ],
   "source": [
    "import xgboost as xgb\n",
    "\n",
    "X_train = feature_store.fetch_data_from_store(yaml_file_path = yaml_file_path)\n",
    "Y_train = feature_store.fetch_data_from_store(X_train.index.min(), yaml_file_path, targets = True)[:X_train.index.max()]\n",
    "\n",
    "y_train_ls= []\n",
    "for target in Y_train.columns:\n",
    "  y_train_ls.append(Y_train[target])\n",
    "\n",
    "cv_results_ls = []\n",
    "for y_train in y_train_ls:\n",
    "  dtrain = xgb.DMatrix(data=X_train, label=y_train)\n",
    "  params = {\n",
    "    'objective': 'reg:squarederror',\n",
    "    'eval_metric': 'rmse'\n",
    "  }\n",
    "\n",
    "  # Perform cross-validation\n",
    "  cv_results = xgb.cv(\n",
    "      params=params,\n",
    "      dtrain=dtrain,\n",
    "      num_boost_round=999,\n",
    "      nfold = 5,\n",
    "      early_stopping_rounds=10,\n",
    "      metrics='rmse',\n",
    "      as_pandas=True,\n",
    "      seed=123\n",
    "  )\n",
    "  cv_results_ls.append(cv_results)\n",
    "  print(f\"Last mean RMSE: {cv_results['test-rmse-mean'].min()}\")\n",
    "\n",
    "final_models_ls = []\n",
    "\n",
    "for cv_results, y_train in zip(cv_results_ls, y_train_ls):\n",
    "    optimal_boost_rounds = cv_results['test-rmse-mean'].idxmin() + 1\n",
    "    final_model = xgb.XGBRegressor(\n",
    "        n_estimators=optimal_boost_rounds,\n",
    "        **params\n",
    "    )\n",
    "    final_model.fit(X_train, y_train)\n",
    "    final_models_ls.append(final_model)"
   ]
  },
  {
   "cell_type": "markdown",
   "metadata": {},
   "source": [
    "**Check the model performance visually**"
   ]
  },
  {
   "cell_type": "code",
   "execution_count": 8,
   "metadata": {},
   "outputs": [
    {
     "data": {
      "image/png": "[encoded data removed]",
      "text/plain": [
       "<Figure size 1000x600 with 1 Axes>"
      ]
     },
     "metadata": {},
     "output_type": "display_data"
    }
   ],
   "source": [
    "import matplotlib.pyplot as plt\n",
    "import numpy as np\n",
    "\n",
    "# Generate residual plot\n",
    "\n",
    "# Initialize lists to hold all predicted values and residuals\n",
    "all_y_pred = []\n",
    "all_residuals = []\n",
    "\n",
    "# Generate a list of colors using a colormap\n",
    "colors = plt.cm.viridis(np.linspace(0, 1, len(final_models_ls)))\n",
    "\n",
    "# Plot residuals for each model\n",
    "plt.figure(figsize=(10, 6))\n",
    "\n",
    "for idx, (final_model, y_train) in enumerate(zip(final_models_ls, y_train_ls)):\n",
    "    # Make predictions\n",
    "    y_pred = final_model.predict(X_train)\n",
    "\n",
    "    # Calculate residuals\n",
    "    residuals = y_train - y_pred\n",
    "\n",
    "    # Plot residuals with a unique color for each model\n",
    "    plt.scatter(y_pred, residuals, color=colors[idx], alpha=0.5, label=f'Model {idx+1}')\n",
    "\n",
    "# Add plot title and labels\n",
    "plt.axhline(y=0, color='red', linestyle='--')\n",
    "plt.title('In-Sample Residual Plot for All Models')\n",
    "plt.xlabel('Predicted Values')\n",
    "plt.ylabel('Residuals')\n",
    "plt.legend()  # Add a legend to differentiate each model\n",
    "plt.show()"
   ]
  },
  {
   "cell_type": "markdown",
   "metadata": {},
   "source": [
    "Diagnostic: Overfitting for Model 3"
   ]
  },
  {
   "cell_type": "markdown",
   "metadata": {},
   "source": [
    "**Save the new models**"
   ]
  },
  {
   "cell_type": "code",
   "execution_count": 9,
   "metadata": {},
   "outputs": [],
   "source": [
    "import joblib\n",
    "\n",
    "# Save each model with a unique filename\n",
    "for idx, final_model in enumerate(final_models_ls):\n",
    "    filename = f'models/batch_demand_forecaster_model_{idx+1}_{id}.pkl'  # Create a unique filename for each model\n",
    "    joblib.dump(final_model, filename)"
   ]
  }
 ],
 "metadata": {
  "kernelspec": {
   "display_name": "Python 3",
   "language": "python",
   "name": "python3"
  },
  "language_info": {
   "codemirror_mode": {
    "name": "ipython",
    "version": 3
   },
   "file_extension": ".py",
   "mimetype": "text/x-python",
   "name": "python",
   "nbconvert_exporter": "python",
   "pygments_lexer": "ipython3",
   "version": "3.10.13"
  }
 },
 "nbformat": 4,
 "nbformat_minor": 2
}
