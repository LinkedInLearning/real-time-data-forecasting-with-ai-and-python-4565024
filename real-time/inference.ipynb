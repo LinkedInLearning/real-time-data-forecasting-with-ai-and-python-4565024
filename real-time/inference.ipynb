{
 "cells": [
  {
   "cell_type": "markdown",
   "metadata": {},
   "source": [
    "# Realtime inference"
   ]
  },
  {
   "cell_type": "markdown",
   "metadata": {},
   "source": [
    "Define a Kafka consumer to subscribe to messages in the feature store"
   ]
  },
  {
   "cell_type": "code",
   "execution_count": 5,
   "metadata": {},
   "outputs": [],
   "source": [
    "from confluent_kafka import Consumer\n",
    "import json\n",
    "\n",
    "def fetch_all_feature_records():\n",
    "    # Kafka Consumer configuration for reading from the beginning of the topic\n",
    "    conf = {\n",
    "        'bootstrap.servers': \"localhost:9092\",\n",
    "        'group.id': \"feature_store_reader\",\n",
    "        'auto.offset.reset': 'latest'\n",
    "        }\n",
    "\n",
    "    # Initialize Kafka Consumer and subscribe to the topic\n",
    "    consumer = Consumer(conf)\n",
    "    consumer.subscribe(['feature_store'])\n",
    "\n",
    "    feature_records = []  # List to store feature data\n",
    "\n",
    "    try:\n",
    "        while True:\n",
    "            msg = consumer.poll(1.0)  # Poll for messages with a 1-second timeout\n",
    "            if msg is None:\n",
    "                break  # Exit loop if no more messages\n",
    "            if not msg.error():\n",
    "                # Convert message from JSON and add to list\n",
    "                feature_records.append(json.loads(msg.value().decode('utf-8')))\n",
    "            else:\n",
    "                break  # Exit loop on error\n",
    "    finally:\n",
    "        consumer.close()  # Clean up: close consumer\n",
    "\n",
    "    return feature_records  # Return the collected feature records"
   ]
  },
  {
   "cell_type": "markdown",
   "metadata": {},
   "source": [
    "Take a look at the available messages"
   ]
  },
  {
   "cell_type": "code",
   "execution_count": 6,
   "metadata": {},
   "outputs": [
    {
     "data": {
      "text/html": [
       "<div>\n",
       "<style scoped>\n",
       "    .dataframe tbody tr th:only-of-type {\n",
       "        vertical-align: middle;\n",
       "    }\n",
       "\n",
       "    .dataframe tbody tr th {\n",
       "        vertical-align: top;\n",
       "    }\n",
       "\n",
       "    .dataframe thead th {\n",
       "        text-align: right;\n",
       "    }\n",
       "</style>\n",
       "<table border=\"1\" class=\"dataframe\">\n",
       "  <thead>\n",
       "    <tr style=\"text-align: right;\">\n",
       "      <th></th>\n",
       "    </tr>\n",
       "  </thead>\n",
       "  <tbody>\n",
       "  </tbody>\n",
       "</table>\n",
       "</div>"
      ],
      "text/plain": [
       "Empty DataFrame\n",
       "Columns: []\n",
       "Index: []"
      ]
     },
     "execution_count": 6,
     "metadata": {},
     "output_type": "execute_result"
    }
   ],
   "source": [
    "import pandas as pd\n",
    "features_df = pd.DataFrame(fetch_all_feature_records())\n",
    "features_df"
   ]
  },
  {
   "cell_type": "markdown",
   "metadata": {},
   "source": [
    "Get the latest complete feature record"
   ]
  },
  {
   "cell_type": "code",
   "execution_count": 81,
   "metadata": {},
   "outputs": [
    {
     "data": {
      "text/html": [
       "<div>\n",
       "<style scoped>\n",
       "    .dataframe tbody tr th:only-of-type {\n",
       "        vertical-align: middle;\n",
       "    }\n",
       "\n",
       "    .dataframe tbody tr th {\n",
       "        vertical-align: top;\n",
       "    }\n",
       "\n",
       "    .dataframe thead th {\n",
       "        text-align: right;\n",
       "    }\n",
       "</style>\n",
       "<table border=\"1\" class=\"dataframe\">\n",
       "  <thead>\n",
       "    <tr style=\"text-align: right;\">\n",
       "      <th></th>\n",
       "      <th>lag_1</th>\n",
       "      <th>lag_2</th>\n",
       "      <th>lag_6</th>\n",
       "      <th>lag_12</th>\n",
       "      <th>lag_24</th>\n",
       "      <th>rolling_mean_7</th>\n",
       "      <th>rolling_std_7</th>\n",
       "      <th>hour</th>\n",
       "      <th>day_of_week</th>\n",
       "      <th>month</th>\n",
       "      <th>temperature_forecast</th>\n",
       "    </tr>\n",
       "    <tr>\n",
       "      <th>id</th>\n",
       "      <th></th>\n",
       "      <th></th>\n",
       "      <th></th>\n",
       "      <th></th>\n",
       "      <th></th>\n",
       "      <th></th>\n",
       "      <th></th>\n",
       "      <th></th>\n",
       "      <th></th>\n",
       "      <th></th>\n",
       "      <th></th>\n",
       "    </tr>\n",
       "  </thead>\n",
       "  <tbody>\n",
       "    <tr>\n",
       "      <th>2024-01-11 08</th>\n",
       "      <td>4433.0</td>\n",
       "      <td>4611.0</td>\n",
       "      <td>5719.0</td>\n",
       "      <td>5988.0</td>\n",
       "      <td>4290.0</td>\n",
       "      <td>4953.857143</td>\n",
       "      <td>541.565763</td>\n",
       "      <td>8.0</td>\n",
       "      <td>3.0</td>\n",
       "      <td>1.0</td>\n",
       "      <td>-5.2</td>\n",
       "    </tr>\n",
       "  </tbody>\n",
       "</table>\n",
       "</div>"
      ],
      "text/plain": [
       "                lag_1   lag_2   lag_6  lag_12  lag_24  rolling_mean_7  \\\n",
       "id                                                                      \n",
       "2024-01-11 08  4433.0  4611.0  5719.0  5988.0  4290.0     4953.857143   \n",
       "\n",
       "               rolling_std_7  hour  day_of_week  month  temperature_forecast  \n",
       "id                                                                            \n",
       "2024-01-11 08     541.565763   8.0          3.0    1.0                  -5.2  "
      ]
     },
     "execution_count": 81,
     "metadata": {},
     "output_type": "execute_result"
    }
   ],
   "source": [
    "latest_feature_record = features_df.groupby('id').first().dropna().sort_index(ascending=False)[:1]\n",
    "latest_feature_record"
   ]
  },
  {
   "cell_type": "markdown",
   "metadata": {},
   "source": [
    "Get predictions for this record"
   ]
  },
  {
   "cell_type": "code",
   "execution_count": 83,
   "metadata": {},
   "outputs": [
    {
     "data": {
      "text/plain": [
       "array([4534.929], dtype=float32)"
      ]
     },
     "execution_count": 83,
     "metadata": {},
     "output_type": "execute_result"
    }
   ],
   "source": [
    "# Load model and run prediction\n",
    "import joblib\n",
    "def load_model(model_path):\n",
    "  model = joblib.load(model_path)\n",
    "  return model\n",
    "\n",
    "model = load_model(\"models/energy_demand_model_v1.pkl\")\n",
    "feature_names = ['lag_1', 'lag_2', 'lag_6', 'lag_12', 'lag_24', 'rolling_mean_7', 'rolling_std_7', 'hour', 'day_of_week', 'month', 'temperature_forecast']\n",
    "latest_feature_record = latest_feature_record[feature_names]\n",
    "model.predict(latest_feature_record)"
   ]
  }
 ],
 "metadata": {
  "kernelspec": {
   "display_name": "Python 3",
   "language": "python",
   "name": "python3"
  },
  "language_info": {
   "codemirror_mode": {
    "name": "ipython",
    "version": 3
   },
   "file_extension": ".py",
   "mimetype": "text/x-python",
   "name": "python",
   "nbconvert_exporter": "python",
   "pygments_lexer": "ipython3",
   "version": "3.10.12"
  }
 },
 "nbformat": 4,
 "nbformat_minor": 2
}
