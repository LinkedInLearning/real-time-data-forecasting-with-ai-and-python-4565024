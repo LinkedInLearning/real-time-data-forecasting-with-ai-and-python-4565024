{
 "cells": [
  {
   "cell_type": "markdown",
   "metadata": {},
   "source": [
    "# Real-time Inference\n",
    "\n",
    "This script fetches the latest data from our realtime feature store and runs predictions.\n",
    "\n",
    "We don't need Quix, we can just use Confluent-Kafka"
   ]
  },
  {
   "cell_type": "code",
   "execution_count": 93,
   "metadata": {},
   "outputs": [],
   "source": [
    "from confluent_kafka import Consumer\n",
    "import json\n",
    "\n",
    "def fetch_all_feature_records():\n",
    "    # Kafka Consumer configuration for reading from the beginning of the topic\n",
    "    conf = {\n",
    "        'bootstrap.servers': \"localhost:9092\",\n",
    "        'group.id': \"feature_store_reader\",\n",
    "        'auto.offset.reset': 'latest'\n",
    "    }\n",
    "\n",
    "    # Initialize Kafka Consumer and subscribe to the topic\n",
    "    consumer = Consumer(conf)\n",
    "    consumer.subscribe(['feature_store'])\n",
    "\n",
    "    feature_records = []  # List to store feature data\n",
    "\n",
    "    try:\n",
    "        while True:\n",
    "            msg = consumer.poll(1.0)  # Poll for messages with a 1-second timeout\n",
    "            if msg is None:\n",
    "                break  # Exit loop if no more messages\n",
    "            if not msg.error():\n",
    "                # Convert message from JSON and add to list\n",
    "                feature_records.append(json.loads(msg.value().decode('utf-8')))\n",
    "            else:\n",
    "                break  # Exit loop on error\n",
    "    finally:\n",
    "        consumer.close()  # Clean up: close consumer\n",
    "\n",
    "    return feature_records  # Return the collected feature records"
   ]
  },
  {
   "cell_type": "code",
   "execution_count": 97,
   "metadata": {},
   "outputs": [
    {
     "data": {
      "text/html": [
       "<div>\n",
       "<style scoped>\n",
       "    .dataframe tbody tr th:only-of-type {\n",
       "        vertical-align: middle;\n",
       "    }\n",
       "\n",
       "    .dataframe tbody tr th {\n",
       "        vertical-align: top;\n",
       "    }\n",
       "\n",
       "    .dataframe thead th {\n",
       "        text-align: right;\n",
       "    }\n",
       "</style>\n",
       "<table border=\"1\" class=\"dataframe\">\n",
       "  <thead>\n",
       "    <tr style=\"text-align: right;\">\n",
       "      <th></th>\n",
       "      <th>id</th>\n",
       "      <th>lag_1</th>\n",
       "      <th>lag_2</th>\n",
       "      <th>lag_6</th>\n",
       "      <th>lag_12</th>\n",
       "      <th>lag_24</th>\n",
       "      <th>rolling_mean_7</th>\n",
       "      <th>rolling_std_7</th>\n",
       "      <th>temperature_forecast</th>\n",
       "      <th>hour</th>\n",
       "      <th>day_of_week</th>\n",
       "      <th>month</th>\n",
       "    </tr>\n",
       "  </thead>\n",
       "  <tbody>\n",
       "    <tr>\n",
       "      <th>0</th>\n",
       "      <td>2024-01-01 09</td>\n",
       "      <td>4396.0</td>\n",
       "      <td>4538.0</td>\n",
       "      <td>5112.0</td>\n",
       "      <td>5405.0</td>\n",
       "      <td>4768.0</td>\n",
       "      <td>4677.428571</td>\n",
       "      <td>296.064102</td>\n",
       "      <td>NaN</td>\n",
       "      <td>NaN</td>\n",
       "      <td>NaN</td>\n",
       "      <td>NaN</td>\n",
       "    </tr>\n",
       "    <tr>\n",
       "      <th>1</th>\n",
       "      <td>2024-01-01 09</td>\n",
       "      <td>NaN</td>\n",
       "      <td>NaN</td>\n",
       "      <td>NaN</td>\n",
       "      <td>NaN</td>\n",
       "      <td>NaN</td>\n",
       "      <td>NaN</td>\n",
       "      <td>NaN</td>\n",
       "      <td>-8.3</td>\n",
       "      <td>9.0</td>\n",
       "      <td>0.0</td>\n",
       "      <td>1.0</td>\n",
       "    </tr>\n",
       "  </tbody>\n",
       "</table>\n",
       "</div>"
      ],
      "text/plain": [
       "              id   lag_1   lag_2   lag_6  lag_12  lag_24  rolling_mean_7  \\\n",
       "0  2024-01-01 09  4396.0  4538.0  5112.0  5405.0  4768.0     4677.428571   \n",
       "1  2024-01-01 09     NaN     NaN     NaN     NaN     NaN             NaN   \n",
       "\n",
       "   rolling_std_7  temperature_forecast  hour  day_of_week  month  \n",
       "0     296.064102                   NaN   NaN          NaN    NaN  \n",
       "1            NaN                  -8.3   9.0          0.0    1.0  "
      ]
     },
     "execution_count": 97,
     "metadata": {},
     "output_type": "execute_result"
    }
   ],
   "source": [
    "import pandas as pd\n",
    "\n",
    "# Assuming `all_features` is the list of dictionaries returned from the function\n",
    "df = pd.DataFrame(fetch_all_feature_records()).tail(4)\n",
    "df"
   ]
  },
  {
   "cell_type": "code",
   "execution_count": 98,
   "metadata": {},
   "outputs": [
    {
     "data": {
      "text/html": [
       "<div>\n",
       "<style scoped>\n",
       "    .dataframe tbody tr th:only-of-type {\n",
       "        vertical-align: middle;\n",
       "    }\n",
       "\n",
       "    .dataframe tbody tr th {\n",
       "        vertical-align: top;\n",
       "    }\n",
       "\n",
       "    .dataframe thead th {\n",
       "        text-align: right;\n",
       "    }\n",
       "</style>\n",
       "<table border=\"1\" class=\"dataframe\">\n",
       "  <thead>\n",
       "    <tr style=\"text-align: right;\">\n",
       "      <th></th>\n",
       "      <th>lag_1</th>\n",
       "      <th>lag_2</th>\n",
       "      <th>lag_6</th>\n",
       "      <th>lag_12</th>\n",
       "      <th>lag_24</th>\n",
       "      <th>rolling_mean_7</th>\n",
       "      <th>rolling_std_7</th>\n",
       "      <th>temperature_forecast</th>\n",
       "      <th>hour</th>\n",
       "      <th>day_of_week</th>\n",
       "      <th>month</th>\n",
       "    </tr>\n",
       "    <tr>\n",
       "      <th>id</th>\n",
       "      <th></th>\n",
       "      <th></th>\n",
       "      <th></th>\n",
       "      <th></th>\n",
       "      <th></th>\n",
       "      <th></th>\n",
       "      <th></th>\n",
       "      <th></th>\n",
       "      <th></th>\n",
       "      <th></th>\n",
       "      <th></th>\n",
       "    </tr>\n",
       "  </thead>\n",
       "  <tbody>\n",
       "    <tr>\n",
       "      <th>2024-01-01 09</th>\n",
       "      <td>4396.0</td>\n",
       "      <td>4538.0</td>\n",
       "      <td>5112.0</td>\n",
       "      <td>5405.0</td>\n",
       "      <td>4768.0</td>\n",
       "      <td>4677.428571</td>\n",
       "      <td>296.064102</td>\n",
       "      <td>-8.3</td>\n",
       "      <td>9.0</td>\n",
       "      <td>0.0</td>\n",
       "      <td>1.0</td>\n",
       "    </tr>\n",
       "  </tbody>\n",
       "</table>\n",
       "</div>"
      ],
      "text/plain": [
       "                lag_1   lag_2   lag_6  lag_12  lag_24  rolling_mean_7  \\\n",
       "id                                                                      \n",
       "2024-01-01 09  4396.0  4538.0  5112.0  5405.0  4768.0     4677.428571   \n",
       "\n",
       "               rolling_std_7  temperature_forecast  hour  day_of_week  month  \n",
       "id                                                                            \n",
       "2024-01-01 09     296.064102                  -8.3   9.0          0.0    1.0  "
      ]
     },
     "execution_count": 98,
     "metadata": {},
     "output_type": "execute_result"
    }
   ],
   "source": [
    "df_agg = df.groupby(\"id\").agg(\"max\").reset_index().set_index('id')\n",
    "df_agg"
   ]
  },
  {
   "cell_type": "code",
   "execution_count": 99,
   "metadata": {},
   "outputs": [
    {
     "data": {
      "text/html": [
       "<div>\n",
       "<style scoped>\n",
       "    .dataframe tbody tr th:only-of-type {\n",
       "        vertical-align: middle;\n",
       "    }\n",
       "\n",
       "    .dataframe tbody tr th {\n",
       "        vertical-align: top;\n",
       "    }\n",
       "\n",
       "    .dataframe thead th {\n",
       "        text-align: right;\n",
       "    }\n",
       "</style>\n",
       "<table border=\"1\" class=\"dataframe\">\n",
       "  <thead>\n",
       "    <tr style=\"text-align: right;\">\n",
       "      <th></th>\n",
       "      <th>lag_1</th>\n",
       "      <th>lag_2</th>\n",
       "      <th>lag_6</th>\n",
       "      <th>lag_12</th>\n",
       "      <th>lag_24</th>\n",
       "      <th>rolling_mean_7</th>\n",
       "      <th>rolling_std_7</th>\n",
       "      <th>temperature_forecast</th>\n",
       "      <th>hour</th>\n",
       "      <th>day_of_week</th>\n",
       "      <th>month</th>\n",
       "    </tr>\n",
       "    <tr>\n",
       "      <th>id</th>\n",
       "      <th></th>\n",
       "      <th></th>\n",
       "      <th></th>\n",
       "      <th></th>\n",
       "      <th></th>\n",
       "      <th></th>\n",
       "      <th></th>\n",
       "      <th></th>\n",
       "      <th></th>\n",
       "      <th></th>\n",
       "      <th></th>\n",
       "    </tr>\n",
       "  </thead>\n",
       "  <tbody>\n",
       "    <tr>\n",
       "      <th>2024-01-01 09:00:00</th>\n",
       "      <td>4396.0</td>\n",
       "      <td>4538.0</td>\n",
       "      <td>5112.0</td>\n",
       "      <td>5405.0</td>\n",
       "      <td>4768.0</td>\n",
       "      <td>4677.428571</td>\n",
       "      <td>296.064102</td>\n",
       "      <td>-8.3</td>\n",
       "      <td>9.0</td>\n",
       "      <td>0.0</td>\n",
       "      <td>1.0</td>\n",
       "    </tr>\n",
       "  </tbody>\n",
       "</table>\n",
       "</div>"
      ],
      "text/plain": [
       "                      lag_1   lag_2   lag_6  lag_12  lag_24  rolling_mean_7  \\\n",
       "id                                                                            \n",
       "2024-01-01 09:00:00  4396.0  4538.0  5112.0  5405.0  4768.0     4677.428571   \n",
       "\n",
       "                     rolling_std_7  temperature_forecast  hour  day_of_week  \\\n",
       "id                                                                            \n",
       "2024-01-01 09:00:00     296.064102                  -8.3   9.0          0.0   \n",
       "\n",
       "                     month  \n",
       "id                          \n",
       "2024-01-01 09:00:00    1.0  "
      ]
     },
     "execution_count": 99,
     "metadata": {},
     "output_type": "execute_result"
    }
   ],
   "source": [
    "# Convert the index to datetime \n",
    "df_agg.index = pd.to_datetime(df_agg.index)\n",
    "\n",
    "# Drop missing values (incomplete streaming data)\n",
    "df_agg = df_agg.dropna()\n",
    "\n",
    "# Select the row with the latest date\n",
    "latest_feature = df_agg.sort_index(ascending = False).head(1)\n",
    "\n",
    "latest_feature"
   ]
  },
  {
   "cell_type": "code",
   "execution_count": 100,
   "metadata": {},
   "outputs": [
    {
     "data": {
      "text/plain": [
       "'models/energy_demand_model_v1.pkl'"
      ]
     },
     "execution_count": 100,
     "metadata": {},
     "output_type": "execute_result"
    }
   ],
   "source": [
    "# Load model and run prediction\n",
    "# Read latest model from model registry\n",
    "import json\n",
    "\n",
    "file_path = 'models/model_registry.json'\n",
    "\n",
    "with open(file_path, 'r') as file:\n",
    "    # Step 3: Load and parse the JSON data\n",
    "    model_registry = json.load(file)\n",
    "\n",
    "# Latest model\n",
    "latest_model = model_registry[0]['model']\n",
    "latest_model\n"
   ]
  },
  {
   "cell_type": "code",
   "execution_count": 75,
   "metadata": {},
   "outputs": [],
   "source": [
    "import joblib\n",
    "def load_model(model_path):\n",
    "  model = joblib.load(model_path)\n",
    "  return model"
   ]
  },
  {
   "cell_type": "code",
   "execution_count": 101,
   "metadata": {},
   "outputs": [],
   "source": [
    "model = load_model(latest_model)"
   ]
  },
  {
   "cell_type": "code",
   "execution_count": 104,
   "metadata": {},
   "outputs": [],
   "source": [
    "feature_names = ['lag_1', 'lag_2', 'lag_6', 'lag_12', 'lag_24', 'rolling_mean_7', 'rolling_std_7', 'hour', 'day_of_week', 'month', 'temperature_forecast']\n",
    "latest_feature = latest_feature[feature_names]"
   ]
  },
  {
   "cell_type": "code",
   "execution_count": 105,
   "metadata": {},
   "outputs": [
    {
     "data": {
      "text/plain": [
       "array([4516.791], dtype=float32)"
      ]
     },
     "execution_count": 105,
     "metadata": {},
     "output_type": "execute_result"
    }
   ],
   "source": [
    "model.predict(latest_feature)"
   ]
  },
  {
   "cell_type": "markdown",
   "metadata": {},
   "source": [
    "Complete pipeline - get predictions from latest available complete data (temperature + energy demand)"
   ]
  },
  {
   "cell_type": "code",
   "execution_count": 108,
   "metadata": {},
   "outputs": [
    {
     "name": "stdout",
     "output_type": "stream",
     "text": [
      "Index(['Prediction based on data from:2024-01-05 12'], dtype='object', name='id')\n"
     ]
    },
    {
     "data": {
      "text/plain": [
       "array([4620.6772], dtype=float32)"
      ]
     },
     "execution_count": 108,
     "metadata": {},
     "output_type": "execute_result"
    }
   ],
   "source": [
    "import pandas as pd\n",
    "\n",
    "df = (pd.DataFrame(fetch_all_feature_records())\n",
    "      .tail(4)\n",
    "      .groupby(\"id\")\n",
    "      .agg(\"max\")\n",
    "      .reset_index()\n",
    "      .set_index('id')\n",
    "      .dropna())\n",
    "\n",
    "# Convert the index to datetime and then sort and select the latest row\n",
    "latest_feature = (df\n",
    "                 .assign(index=pd.to_datetime(df.index))  # Convert index to datetime\n",
    "                 .sort_index(ascending=False)  # Sort by index\n",
    "                 .head(1)[feature_names])  # Select the row with the latest date\n",
    "\n",
    "print(\"Prediction based on data from:\" + latest_feature.index)\n",
    "\n",
    "model.predict(latest_feature)"
   ]
  },
  {
   "cell_type": "markdown",
   "metadata": {},
   "source": [
    "Voilà! We can always get the latest predictions from our streaming data!"
   ]
  }
 ],
 "metadata": {
  "kernelspec": {
   "display_name": "Python 3",
   "language": "python",
   "name": "python3"
  },
  "language_info": {
   "codemirror_mode": {
    "name": "ipython",
    "version": 3
   },
   "file_extension": ".py",
   "mimetype": "text/x-python",
   "name": "python",
   "nbconvert_exporter": "python",
   "pygments_lexer": "ipython3",
   "version": "3.10.13"
  }
 },
 "nbformat": 4,
 "nbformat_minor": 2
}
