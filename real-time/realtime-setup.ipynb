{
 "cells": [
  {
   "cell_type": "markdown",
   "metadata": {},
   "source": [
    "# Realtime Setup"
   ]
  },
  {
   "cell_type": "markdown",
   "metadata": {},
   "source": [
    "## Steps to launch a Kafka Server and start data streaming\n",
    "\n",
    "**Step 1**\n",
    "Spin up a Docker container that contains the Kafka environment\n",
    "\n",
    "Type into terminal:\n",
    "\n",
    "`docker-compose up -d`\n",
    "\n",
    "**Step 2**\n",
    "Check the Kafka Server\n",
    "`http://localhost:9021`\n",
    "\n",
    "**Step 3**\n",
    "Start streaming data. \n",
    "\n",
    "This will stream data from energy_data.csv and weather_data.csv, simulating a continuous inflow of data.\n",
    "\n",
    "**Step 4**\n",
    "\n",
    "Check the Kafka Server again!\n",
    "\n",
    "Which topics do you see?\n",
    "`http://localhost:9021`\n",
    "\n",
    "**Step 5** \n",
    "\n",
    "Stop the process\n",
    "\n",
    "Press `ctrl + c` in Terminal\n",
    "\n",
    "**Want to repeat the process?**\n",
    "Go to `http://localhost:9021` and delete the topics `combined_data` and `feature_store` to start over again."
   ]
  },
  {
   "cell_type": "markdown",
   "metadata": {},
   "source": [
    "## Consuming Data from Kafka using Quix"
   ]
  },
  {
   "cell_type": "code",
   "execution_count": 2,
   "metadata": {},
   "outputs": [
    {
     "name": "stderr",
     "output_type": "stream",
     "text": [
      "[2024-06-18 21:57:45,014] [INFO] : Starting the Application with the config: broker_address=\"localhost:9092\" consumer_group=\"demand_forecasting\" auto_offset_reset=\"earliest\" commit_interval=5.0s\n",
      "[2024-06-18 21:57:45,015] [INFO] : Topics required for this application: \"combined_data\"\n",
      "[2024-06-18 21:57:45,039] [INFO] : Creating a new topic \"combined_data\" with config: \"{'num_partitions': 1, 'replication_factor': 1, 'extra_config': {}}\"\n",
      "[2024-06-18 21:57:46,043] [INFO] : Topic \"combined_data\" has been created\n",
      "[2024-06-18 21:57:46,044] [INFO] : Validating Kafka topics exist and are configured correctly...\n",
      "[2024-06-18 21:57:46,050] [INFO] : Kafka topics validation complete\n",
      "[2024-06-18 21:57:46,051] [INFO] : Initializing state directory at \"/workspaces/lil-time-series/real-time/state/demand_forecasting\"\n",
      "[2024-06-18 21:57:46,052] [INFO] : Waiting for incoming messages\n",
      "[2024-06-18 21:59:28,191] [INFO] : Committing a checkpoint force=False\n",
      "[2024-06-18 21:59:28,192] [INFO] : Committed a checkpoint force=False time_elapsed=0.0s\n"
     ]
    },
    {
     "name": "stdout",
     "output_type": "stream",
     "text": [
      "{'Period': '2024-01-01T00', 'Type': 'energy', 'Value': 5536.0}\n",
      "{'Period': '2024-01-01 00:00:00', 'Type': 'temperature', 'Value': -27.0}\n",
      "{'Period': '2024-01-01T01', 'Type': 'energy', 'Value': 5417.0}\n"
     ]
    },
    {
     "name": "stderr",
     "output_type": "stream",
     "text": [
      "[2024-06-18 21:59:34,193] [INFO] : Committing a checkpoint force=False\n",
      "[2024-06-18 21:59:34,195] [INFO] : Committed a checkpoint force=False time_elapsed=0.0s\n"
     ]
    },
    {
     "name": "stdout",
     "output_type": "stream",
     "text": [
      "{'Period': '2024-01-01 01:00:00', 'Type': 'temperature', 'Value': -26.4}\n",
      "{'Period': '2024-01-01T02', 'Type': 'energy', 'Value': 5257.0}\n"
     ]
    },
    {
     "name": "stderr",
     "output_type": "stream",
     "text": [
      "[2024-06-18 21:59:39,197] [INFO] : Committing a checkpoint force=False\n",
      "[2024-06-18 21:59:39,199] [INFO] : Committed a checkpoint force=False time_elapsed=0.0s\n"
     ]
    },
    {
     "name": "stdout",
     "output_type": "stream",
     "text": [
      "{'Period': '2024-01-01 02:00:00', 'Type': 'temperature', 'Value': -27.1}\n",
      "{'Period': '2024-01-01T03', 'Type': 'energy', 'Value': 5112.0}\n"
     ]
    },
    {
     "name": "stderr",
     "output_type": "stream",
     "text": [
      "[2024-06-18 21:59:45,200] [INFO] : Committing a checkpoint force=False\n",
      "[2024-06-18 21:59:45,202] [INFO] : Committed a checkpoint force=False time_elapsed=0.0s\n"
     ]
    },
    {
     "name": "stdout",
     "output_type": "stream",
     "text": [
      "{'Period': '2024-01-01 03:00:00', 'Type': 'temperature', 'Value': -27.1}\n",
      "{'Period': '2024-01-01T04', 'Type': 'energy', 'Value': 4956.0}\n"
     ]
    },
    {
     "name": "stderr",
     "output_type": "stream",
     "text": [
      "[2024-06-18 21:59:50,203] [INFO] : Committing a checkpoint force=False\n",
      "[2024-06-18 21:59:50,205] [INFO] : Committed a checkpoint force=False time_elapsed=0.0s\n"
     ]
    },
    {
     "name": "stdout",
     "output_type": "stream",
     "text": [
      "{'Period': '2024-01-01 04:00:00', 'Type': 'temperature', 'Value': -25.1}\n",
      "{'Period': '2024-01-01T05', 'Type': 'energy', 'Value': 4795.0}\n"
     ]
    },
    {
     "name": "stderr",
     "output_type": "stream",
     "text": [
      "[2024-06-18 21:59:55,207] [INFO] : Committing a checkpoint force=False\n",
      "[2024-06-18 21:59:55,209] [INFO] : Committed a checkpoint force=False time_elapsed=0.0s\n"
     ]
    },
    {
     "name": "stdout",
     "output_type": "stream",
     "text": [
      "{'Period': '2024-01-01 05:00:00', 'Type': 'temperature', 'Value': -18.3}\n",
      "{'Period': '2024-01-01T06', 'Type': 'energy', 'Value': 4650.0}\n"
     ]
    },
    {
     "name": "stderr",
     "output_type": "stream",
     "text": [
      "[2024-06-18 22:00:00,209] [INFO] : Committing a checkpoint force=False\n",
      "[2024-06-18 22:00:00,212] [INFO] : Committed a checkpoint force=False time_elapsed=0.0s\n"
     ]
    },
    {
     "name": "stdout",
     "output_type": "stream",
     "text": [
      "{'Period': '2024-01-01 06:00:00', 'Type': 'temperature', 'Value': -10.5}\n",
      "{'Period': '2024-01-01T07', 'Type': 'energy', 'Value': 4538.0}\n"
     ]
    },
    {
     "name": "stderr",
     "output_type": "stream",
     "text": [
      "[2024-06-18 22:00:05,212] [INFO] : Committing a checkpoint force=False\n",
      "[2024-06-18 22:00:05,214] [INFO] : Committed a checkpoint force=False time_elapsed=0.0s\n"
     ]
    },
    {
     "name": "stdout",
     "output_type": "stream",
     "text": [
      "{'Period': '2024-01-01 07:00:00', 'Type': 'temperature', 'Value': -10.8}\n",
      "{'Period': '2024-01-01T08', 'Type': 'energy', 'Value': 4396.0}\n"
     ]
    },
    {
     "name": "stderr",
     "output_type": "stream",
     "text": [
      "[2024-06-18 22:00:10,216] [INFO] : Committing a checkpoint force=False\n",
      "[2024-06-18 22:00:10,218] [INFO] : Committed a checkpoint force=False time_elapsed=0.0s\n"
     ]
    },
    {
     "name": "stdout",
     "output_type": "stream",
     "text": [
      "{'Period': '2024-01-01 08:00:00', 'Type': 'temperature', 'Value': -9.7}\n",
      "{'Period': '2024-01-01T09', 'Type': 'energy', 'Value': 4295.0}\n"
     ]
    },
    {
     "name": "stderr",
     "output_type": "stream",
     "text": [
      "[2024-06-18 22:00:15,220] [INFO] : Committing a checkpoint force=False\n",
      "[2024-06-18 22:00:15,222] [INFO] : Committed a checkpoint force=False time_elapsed=0.0s\n"
     ]
    },
    {
     "name": "stdout",
     "output_type": "stream",
     "text": [
      "{'Period': '2024-01-01 09:00:00', 'Type': 'temperature', 'Value': -8.3}\n",
      "{'Period': '2024-01-01T10', 'Type': 'energy', 'Value': 4227.0}\n"
     ]
    },
    {
     "name": "stderr",
     "output_type": "stream",
     "text": [
      "[2024-06-18 22:00:20,224] [INFO] : Committing a checkpoint force=False\n",
      "[2024-06-18 22:00:20,226] [INFO] : Committed a checkpoint force=False time_elapsed=0.0s\n"
     ]
    },
    {
     "name": "stdout",
     "output_type": "stream",
     "text": [
      "{'Period': '2024-01-01 10:00:00', 'Type': 'temperature', 'Value': -7.7}\n",
      "{'Period': '2024-01-01T11', 'Type': 'energy', 'Value': 4285.0}\n"
     ]
    },
    {
     "name": "stderr",
     "output_type": "stream",
     "text": [
      "[2024-06-18 22:00:25,228] [INFO] : Committing a checkpoint force=False\n",
      "[2024-06-18 22:00:25,230] [INFO] : Committed a checkpoint force=False time_elapsed=0.0s\n"
     ]
    },
    {
     "name": "stdout",
     "output_type": "stream",
     "text": [
      "{'Period': '2024-01-01 11:00:00', 'Type': 'temperature', 'Value': -8.6}\n",
      "{'Period': '2024-01-01T12', 'Type': 'energy', 'Value': 4412.0}\n"
     ]
    },
    {
     "name": "stderr",
     "output_type": "stream",
     "text": [
      "[2024-06-18 22:00:30,233] [INFO] : Committing a checkpoint force=False\n",
      "[2024-06-18 22:00:30,235] [INFO] : Committed a checkpoint force=False time_elapsed=0.0s\n"
     ]
    },
    {
     "name": "stdout",
     "output_type": "stream",
     "text": [
      "{'Period': '2024-01-01 12:00:00', 'Type': 'temperature', 'Value': -9.0}\n",
      "{'Period': '2024-01-01T13', 'Type': 'energy', 'Value': 4490.0}\n"
     ]
    },
    {
     "name": "stderr",
     "output_type": "stream",
     "text": [
      "[2024-06-18 22:00:35,237] [INFO] : Committing a checkpoint force=False\n",
      "[2024-06-18 22:00:35,239] [INFO] : Committed a checkpoint force=False time_elapsed=0.0s\n"
     ]
    },
    {
     "name": "stdout",
     "output_type": "stream",
     "text": [
      "{'Period': '2024-01-01 13:00:00', 'Type': 'temperature', 'Value': -10.0}\n",
      "{'Period': '2024-01-01T14', 'Type': 'energy', 'Value': 4613.0}\n"
     ]
    },
    {
     "name": "stderr",
     "output_type": "stream",
     "text": [
      "[2024-06-18 22:00:40,241] [INFO] : Committing a checkpoint force=False\n",
      "[2024-06-18 22:00:40,243] [INFO] : Committed a checkpoint force=False time_elapsed=0.0s\n"
     ]
    },
    {
     "name": "stdout",
     "output_type": "stream",
     "text": [
      "{'Period': '2024-01-01 14:00:00', 'Type': 'temperature', 'Value': -11.3}\n",
      "{'Period': '2024-01-01T15', 'Type': 'energy', 'Value': 4724.0}\n"
     ]
    },
    {
     "name": "stderr",
     "output_type": "stream",
     "text": [
      "[2024-06-18 22:00:45,245] [INFO] : Committing a checkpoint force=False\n",
      "[2024-06-18 22:00:45,247] [INFO] : Committed a checkpoint force=False time_elapsed=0.0s\n"
     ]
    },
    {
     "name": "stdout",
     "output_type": "stream",
     "text": [
      "{'Period': '2024-01-01 15:00:00', 'Type': 'temperature', 'Value': -12.8}\n",
      "{'Period': '2024-01-01T16', 'Type': 'energy', 'Value': 4855.0}\n"
     ]
    },
    {
     "name": "stderr",
     "output_type": "stream",
     "text": [
      "[2024-06-18 22:00:50,248] [INFO] : Committing a checkpoint force=False\n",
      "[2024-06-18 22:00:50,250] [INFO] : Committed a checkpoint force=False time_elapsed=0.0s\n"
     ]
    },
    {
     "name": "stdout",
     "output_type": "stream",
     "text": [
      "{'Period': '2024-01-01 16:00:00', 'Type': 'temperature', 'Value': -14.2}\n",
      "{'Period': '2024-01-01T17', 'Type': 'energy', 'Value': 4886.0}\n"
     ]
    },
    {
     "name": "stderr",
     "output_type": "stream",
     "text": [
      "[2024-06-18 22:00:55,251] [INFO] : Committing a checkpoint force=False\n",
      "[2024-06-18 22:00:55,253] [INFO] : Committed a checkpoint force=False time_elapsed=0.0s\n"
     ]
    },
    {
     "name": "stdout",
     "output_type": "stream",
     "text": [
      "{'Period': '2024-01-01 17:00:00', 'Type': 'temperature', 'Value': -15.0}\n",
      "{'Period': '2024-01-01T18', 'Type': 'energy', 'Value': 4927.0}\n"
     ]
    },
    {
     "name": "stderr",
     "output_type": "stream",
     "text": [
      "[2024-06-18 22:01:00,256] [INFO] : Committing a checkpoint force=False\n",
      "[2024-06-18 22:01:00,258] [INFO] : Committed a checkpoint force=False time_elapsed=0.0s\n"
     ]
    },
    {
     "name": "stdout",
     "output_type": "stream",
     "text": [
      "{'Period': '2024-01-01 18:00:00', 'Type': 'temperature', 'Value': -15.7}\n"
     ]
    },
    {
     "name": "stderr",
     "output_type": "stream",
     "text": [
      "[2024-06-18 22:01:01,259] [INFO] : Stop processing of StreamingDataFrame\n",
      "[2024-06-18 22:01:01,260] [INFO] : Committing a checkpoint force=True\n",
      "[2024-06-18 22:01:01,262] [INFO] : Committed a checkpoint force=True time_elapsed=0.0s\n"
     ]
    }
   ],
   "source": [
    "# Test streaming\n",
    "\n",
    "from quixstreams import Application\n",
    "\n",
    "# Create an Application - the main configuration entry point\n",
    "app = Application(\n",
    "    broker_address=\"localhost:9092\",\n",
    "    consumer_group=\"demand_forecasting\",\n",
    "    auto_offset_reset=\"earliest\",\n",
    ")\n",
    "\n",
    "# Define the input topic with JSON deserialization\n",
    "input_topic = app.topic('combined_data', value_deserializer='json')\n",
    "\n",
    "# Create a StreamingDataFrame connected to the input topic\n",
    "sdf = app.dataframe(topic=input_topic)\n",
    "\n",
    "# Use the .update() method to print each message to the console\n",
    "sdf = sdf.update(print)\n",
    "\n",
    "# Run the pipeline\n",
    "app.run(sdf)"
   ]
  },
  {
   "cell_type": "markdown",
   "metadata": {},
   "source": [
    "## Create Real-time Feature Store\n",
    "\n",
    "The following pipeline will listen to incoming messages, apply a window function, create our features and store them to a new topic."
   ]
  },
  {
   "cell_type": "code",
   "execution_count": 3,
   "metadata": {},
   "outputs": [
    {
     "name": "stderr",
     "output_type": "stream",
     "text": [
      "[2024-06-18 22:01:31,694] [INFO] : Topics required for this application: \"feature_store\", \"combined_data\"\n",
      "[2024-06-18 22:01:31,698] [INFO] : Creating a new topic \"feature_store\" with config: \"{'num_partitions': 1, 'replication_factor': 1, 'extra_config': {}}\"\n",
      "[2024-06-18 22:01:32,700] [INFO] : Topic \"feature_store\" has been created\n",
      "[2024-06-18 22:01:32,701] [INFO] : Validating Kafka topics exist and are configured correctly...\n",
      "[2024-06-18 22:01:32,708] [INFO] : Kafka topics validation complete\n",
      "[2024-06-18 22:01:32,713] [INFO] : Starting the Application with the config: broker_address=\"localhost:9092\" consumer_group=\"example\" auto_offset_reset=\"latest\" commit_interval=5.0s\n",
      "[2024-06-18 22:01:32,714] [INFO] : Topics required for this application: \"feature_store\", \"combined_data\", \"changelog__example--combined_data--default\"\n",
      "[2024-06-18 22:01:32,718] [INFO] : Creating a new topic \"changelog__example--combined_data--default\" with config: \"{'num_partitions': 1, 'replication_factor': 1, 'extra_config': {'retention.ms': '604800000', 'retention.bytes': '-1', 'cleanup.policy': 'compact'}}\"\n",
      "[2024-06-18 22:01:33,720] [INFO] : Topic \"changelog__example--combined_data--default\" has been created\n",
      "[2024-06-18 22:01:33,721] [INFO] : Validating Kafka topics exist and are configured correctly...\n",
      "[2024-06-18 22:01:33,732] [INFO] : Kafka topics validation complete\n",
      "[2024-06-18 22:01:33,733] [INFO] : Initializing state directory at \"/workspaces/lil-time-series/real-time/state/example\"\n",
      "[2024-06-18 22:01:33,735] [INFO] : Waiting for incoming messages\n",
      "[2024-06-18 22:01:39,290] [INFO] : Committing a checkpoint force=False\n",
      "[2024-06-18 22:01:39,741] [INFO] : Committed a checkpoint force=False time_elapsed=0.45s\n",
      "[2024-06-18 22:01:45,293] [INFO] : Committing a checkpoint force=False\n",
      "[2024-06-18 22:01:45,295] [INFO] : Committed a checkpoint force=False time_elapsed=0.0s\n",
      "[2024-06-18 22:01:50,297] [INFO] : Committing a checkpoint force=False\n",
      "[2024-06-18 22:01:50,300] [INFO] : Committed a checkpoint force=False time_elapsed=0.0s\n",
      "[2024-06-18 22:01:55,302] [INFO] : Committing a checkpoint force=False\n",
      "[2024-06-18 22:01:55,305] [INFO] : Committed a checkpoint force=False time_elapsed=0.0s\n",
      "[2024-06-18 22:02:00,306] [INFO] : Committing a checkpoint force=False\n",
      "[2024-06-18 22:02:00,308] [INFO] : Committed a checkpoint force=False time_elapsed=0.0s\n",
      "[2024-06-18 22:02:05,310] [INFO] : Committing a checkpoint force=False\n",
      "[2024-06-18 22:02:05,313] [INFO] : Committed a checkpoint force=False time_elapsed=0.0s\n",
      "[2024-06-18 22:02:10,316] [INFO] : Committing a checkpoint force=False\n",
      "[2024-06-18 22:02:10,318] [INFO] : Committed a checkpoint force=False time_elapsed=0.0s\n",
      "[2024-06-18 22:02:15,320] [INFO] : Committing a checkpoint force=False\n",
      "[2024-06-18 22:02:15,324] [INFO] : Committed a checkpoint force=False time_elapsed=0.0s\n",
      "[2024-06-18 22:02:20,325] [INFO] : Committing a checkpoint force=False\n",
      "[2024-06-18 22:02:20,327] [INFO] : Committed a checkpoint force=False time_elapsed=0.0s\n",
      "[2024-06-18 22:02:26,327] [INFO] : Committing a checkpoint force=False\n",
      "[2024-06-18 22:02:26,330] [INFO] : Committed a checkpoint force=False time_elapsed=0.0s\n",
      "[2024-06-18 22:02:31,333] [INFO] : Committing a checkpoint force=False\n",
      "[2024-06-18 22:02:31,335] [INFO] : Committed a checkpoint force=False time_elapsed=0.0s\n",
      "[2024-06-18 22:02:36,338] [INFO] : Committing a checkpoint force=False\n",
      "[2024-06-18 22:02:36,341] [INFO] : Committed a checkpoint force=False time_elapsed=0.0s\n",
      "[2024-06-18 22:02:42,340] [INFO] : Committing a checkpoint force=False\n",
      "[2024-06-18 22:02:42,343] [INFO] : Committed a checkpoint force=False time_elapsed=0.0s\n",
      "[2024-06-18 22:02:47,345] [INFO] : Committing a checkpoint force=False\n",
      "[2024-06-18 22:02:47,347] [INFO] : Committed a checkpoint force=False time_elapsed=0.0s\n",
      "[2024-06-18 22:02:52,350] [INFO] : Committing a checkpoint force=False\n",
      "[2024-06-18 22:02:52,352] [INFO] : Committed a checkpoint force=False time_elapsed=0.0s\n",
      "[2024-06-18 22:02:57,354] [INFO] : Committing a checkpoint force=False\n",
      "[2024-06-18 22:02:57,357] [INFO] : Committed a checkpoint force=False time_elapsed=0.0s\n",
      "[2024-06-18 22:03:02,357] [INFO] : Committing a checkpoint force=False\n",
      "[2024-06-18 22:03:02,360] [INFO] : Committed a checkpoint force=False time_elapsed=0.0s\n",
      "[2024-06-18 22:03:08,359] [INFO] : Committing a checkpoint force=False\n",
      "[2024-06-18 22:03:08,362] [INFO] : Committed a checkpoint force=False time_elapsed=0.0s\n",
      "[2024-06-18 22:03:13,364] [INFO] : Committing a checkpoint force=False\n",
      "[2024-06-18 22:03:13,367] [INFO] : Committed a checkpoint force=False time_elapsed=0.0s\n",
      "[2024-06-18 22:03:18,369] [INFO] : Committing a checkpoint force=False\n",
      "[2024-06-18 22:03:18,372] [INFO] : Committed a checkpoint force=False time_elapsed=0.0s\n",
      "[2024-06-18 22:03:23,375] [INFO] : Committing a checkpoint force=False\n",
      "[2024-06-18 22:03:23,377] [INFO] : Committed a checkpoint force=False time_elapsed=0.0s\n",
      "[2024-06-18 22:03:28,380] [INFO] : Committing a checkpoint force=False\n",
      "[2024-06-18 22:03:28,383] [INFO] : Committed a checkpoint force=False time_elapsed=0.0s\n",
      "[2024-06-18 22:03:33,385] [INFO] : Committing a checkpoint force=False\n",
      "[2024-06-18 22:03:33,387] [INFO] : Committed a checkpoint force=False time_elapsed=0.0s\n",
      "[2024-06-18 22:03:38,389] [INFO] : Committing a checkpoint force=False\n",
      "[2024-06-18 22:03:38,391] [INFO] : Committed a checkpoint force=False time_elapsed=0.0s\n",
      "[2024-06-18 22:03:43,394] [INFO] : Committing a checkpoint force=False\n",
      "[2024-06-18 22:03:43,397] [INFO] : Committed a checkpoint force=False time_elapsed=0.0s\n",
      "[2024-06-18 22:03:48,398] [INFO] : Committing a checkpoint force=False\n",
      "[2024-06-18 22:03:48,401] [INFO] : Committed a checkpoint force=False time_elapsed=0.0s\n",
      "[2024-06-18 22:03:53,403] [INFO] : Committing a checkpoint force=False\n",
      "[2024-06-18 22:03:53,405] [INFO] : Committed a checkpoint force=False time_elapsed=0.0s\n",
      "[2024-06-18 22:03:58,406] [INFO] : Committing a checkpoint force=False\n",
      "[2024-06-18 22:03:58,409] [INFO] : Committed a checkpoint force=False time_elapsed=0.0s\n",
      "[2024-06-18 22:04:03,410] [INFO] : Committing a checkpoint force=False\n",
      "[2024-06-18 22:04:03,413] [INFO] : Committed a checkpoint force=False time_elapsed=0.0s\n",
      "[2024-06-18 22:04:08,414] [INFO] : Committing a checkpoint force=False\n",
      "[2024-06-18 22:04:08,417] [INFO] : Committed a checkpoint force=False time_elapsed=0.0s\n",
      "[2024-06-18 22:04:17,419] [INFO] : Stop processing of StreamingDataFrame\n"
     ]
    }
   ],
   "source": [
    "from quixstreams import Application\n",
    "from datetime import datetime\n",
    "import pandas as pd\n",
    "import json\n",
    "\n",
    "from datetime import datetime\n",
    "\n",
    "def parse_period(period_str):\n",
    "    # Define possible date formats\n",
    "    date_formats = [\n",
    "        '%Y-%m-%d %H:%M:%S',  # Format with seconds\n",
    "        '%Y-%m-%d %H:%M',     # Format without seconds\n",
    "        '%Y-%m-%dT%H',        # ISO-like format without minutes and seconds\n",
    "        '%Y-%m-%dT%H:%M:%S'   # Full ISO-like format\n",
    "    ]\n",
    "\n",
    "    for date_format in date_formats:\n",
    "        try:\n",
    "            return datetime.strptime(period_str, date_format)\n",
    "        except ValueError:\n",
    "            continue  # Try the next format\n",
    "\n",
    "    # If all formats fail, return None or log an error\n",
    "    print(f\"Failed to parse date: {period_str}\")\n",
    "    return None\n",
    "\n",
    "def process_data(value, state, producer, feature_store_topic):\n",
    "    period_dt = parse_period(value['Period'])\n",
    "    \n",
    "    if period_dt is None:\n",
    "        print(\"Error parsing the period date.\")\n",
    "        return  # Skip processing for this message due to parsing error\n",
    "    \n",
    "    # Define the ID for the feature store as the DateTimeHour\n",
    "    feature_record_id = period_dt.strftime('%Y-%m-%d %H')\n",
    "\n",
    "    if value['Type'] == 'temperature':\n",
    "        # Directly produce the temperature to the feature store\n",
    "        message = {\n",
    "            'id': feature_record_id,\n",
    "            'temperature_forecast': value['Value'],\n",
    "            'hour': period_dt.hour,\n",
    "            'day_of_week': period_dt.weekday(),\n",
    "            'month': period_dt.month\n",
    "        }\n",
    "\n",
    "        producer.produce(topic=feature_store_topic.name, key=feature_record_id, value=json.dumps(message))\n",
    "        #print(\"Message for temperature:\", message)\n",
    "\n",
    "    elif value['Type'] == 'energy':\n",
    "        \n",
    "        # Manage the energy window\n",
    "        window = state.get('energy_window', [])\n",
    "        window.append(value['Value'])\n",
    "        if len(window) > 25:\n",
    "            window.pop(0)\n",
    "        state.set('energy_window', window)\n",
    "\n",
    "        # Compute features\n",
    "        features = calculate_lags(window, period_dt)\n",
    "\n",
    "        message = {\n",
    "            \"id\": feature_record_id,\n",
    "            **features\n",
    "        }\n",
    "        #print(\"Message for energy:\", message)\n",
    "\n",
    "        # Serialize and produce the features to Kafka\n",
    "        producer.produce(topic=feature_store_topic.name, key=feature_record_id, value=json.dumps(message))\n",
    "\n",
    "def calculate_lags(window, period_dt):\n",
    "    # Convert window to a DataFrame\n",
    "    df = pd.DataFrame({'value': window})\n",
    "    \n",
    "    features = {\n",
    "        'lag_1': float(df['value'].shift(1).iloc[-1]) if len(df) > 1 else None,\n",
    "        'lag_2': float(df['value'].shift(2).iloc[-1]) if len(df) > 2 else None,\n",
    "        'lag_6': float(df['value'].shift(6).iloc[-1]) if len(df) > 6 else None,\n",
    "        'lag_12': float(df['value'].shift(12).iloc[-1]) if len(df) > 12 else None,\n",
    "        'lag_24': float(df['value'].shift(24).iloc[-1]) if len(df) > 24 else None,\n",
    "        'rolling_mean_7': float(df['value'].rolling(window=7).mean().iloc[-1]) if len(df) >= 7 else None,\n",
    "        'rolling_std_7': float(df['value'].rolling(window=7).std().iloc[-1]) if len(df) >= 7 else None,\n",
    "    }\n",
    "    \n",
    "    return features\n",
    "\n",
    "\n",
    "app = Application(broker_address='localhost:9092', consumer_group='example')\n",
    "\n",
    "# Define a topic for real-time feature storage with JSON serialization\n",
    "feature_store_topic = app.topic(name='feature_store', value_serializer='json')\n",
    "\n",
    "# Combined data topic setup\n",
    "combined_data_topic = app.topic(name='combined_data', value_deserializer='json')\n",
    "\n",
    "# Producer for sending feature data\n",
    "with app.get_producer() as producer:\n",
    "    # Simulate or integrate data handling and processing\n",
    "    data_df = app.dataframe(topic=combined_data_topic).update(\n",
    "        lambda value, state: process_data(value, state, producer, feature_store_topic), \n",
    "        stateful=True\n",
    "    )\n",
    "    app.run(data_df)"
   ]
  },
  {
   "cell_type": "code",
   "execution_count": null,
   "metadata": {},
   "outputs": [],
   "source": []
  }
 ],
 "metadata": {
  "kernelspec": {
   "display_name": "Python 3.10.4 64-bit",
   "language": "python",
   "name": "python3"
  },
  "language_info": {
   "codemirror_mode": {
    "name": "ipython",
    "version": 3
   },
   "file_extension": ".py",
   "mimetype": "text/x-python",
   "name": "python",
   "nbconvert_exporter": "python",
   "pygments_lexer": "ipython3",
   "version": "3.10.13"
  },
  "orig_nbformat": 4,
  "vscode": {
   "interpreter": {
    "hash": "3ad933181bd8a04b432d3370b9dc3b0662ad032c4dfaa4e4f1596c548f763858"
   }
  }
 },
 "nbformat": 4,
 "nbformat_minor": 2
}
