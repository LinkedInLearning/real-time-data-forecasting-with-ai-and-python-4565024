{
 "cells": [
  {
   "cell_type": "markdown",
   "metadata": {},
   "source": [
    "# Produce Streaming Data"
   ]
  },
  {
   "cell_type": "markdown",
   "metadata": {},
   "source": [
    "Before you run the following script, launch the Docker container with this command from the Terminal:\n",
    "\n",
    "`cd real-time`\n",
    "\n",
    "`docker-compose up -d`"
   ]
  },
  {
   "cell_type": "code",
   "execution_count": 2,
   "metadata": {},
   "outputs": [
    {
     "name": "stderr",
     "output_type": "stream",
     "text": [
      "[2024-06-19 16:08:09,451] [INFO] : Topics required for this application: \"incoming_data\"\n",
      "[2024-06-19 16:08:09,476] [INFO] : Creating a new topic \"incoming_data\" with config: \"{'num_partitions': 1, 'replication_factor': 1, 'extra_config': {}}\"\n"
     ]
    },
    {
     "name": "stdout",
     "output_type": "stream",
     "text": [
      "Writing CSV data to the \"incoming_data\" topic ...\n"
     ]
    },
    {
     "name": "stderr",
     "output_type": "stream",
     "text": [
      "[2024-06-19 16:08:10,480] [INFO] : Topic \"incoming_data\" has been created\n",
      "[2024-06-19 16:08:10,481] [INFO] : Validating Kafka topics exist and are configured correctly...\n",
      "[2024-06-19 16:08:10,511] [INFO] : Kafka topics validation complete\n"
     ]
    },
    {
     "ename": "KeyboardInterrupt",
     "evalue": "",
     "output_type": "error",
     "traceback": [
      "\u001b[0;31m---------------------------------------------------------------------------\u001b[0m",
      "\u001b[0;31mKeyboardInterrupt\u001b[0m                         Traceback (most recent call last)",
      "Cell \u001b[0;32mIn[2], line 78\u001b[0m\n\u001b[1;32m     71\u001b[0m         \u001b[38;5;66;03m# Send the temperature data message to the same combined topic\u001b[39;00m\n\u001b[1;32m     72\u001b[0m         producer\u001b[38;5;241m.\u001b[39mproduce(\n\u001b[1;32m     73\u001b[0m             topic\u001b[38;5;241m=\u001b[39mcombined_data_topic\u001b[38;5;241m.\u001b[39mname,\n\u001b[1;32m     74\u001b[0m             key\u001b[38;5;241m=\u001b[39m\u001b[38;5;124m\"\u001b[39m\u001b[38;5;124mtemperature-csv\u001b[39m\u001b[38;5;124m\"\u001b[39m,\n\u001b[1;32m     75\u001b[0m             value\u001b[38;5;241m=\u001b[39mjson\u001b[38;5;241m.\u001b[39mdumps(temperature_message),\n\u001b[1;32m     76\u001b[0m         )\n\u001b[0;32m---> 78\u001b[0m         \u001b[43mtime\u001b[49m\u001b[38;5;241;43m.\u001b[39;49m\u001b[43msleep\u001b[49m\u001b[43m(\u001b[49m\u001b[38;5;241;43m3\u001b[39;49m\u001b[43m)\u001b[49m  \u001b[38;5;66;03m# Simulate real-time flow with a sleep for temperature data\u001b[39;00m\n\u001b[1;32m     80\u001b[0m \u001b[38;5;66;03m# Part 3: Shutting Down ---\u001b[39;00m\n\u001b[1;32m     81\u001b[0m \u001b[38;5;66;03m# Ensure all messages are sent before closing\u001b[39;00m\n\u001b[1;32m     82\u001b[0m producer\u001b[38;5;241m.\u001b[39mflush()\n",
      "\u001b[0;31mKeyboardInterrupt\u001b[0m: "
     ]
    }
   ],
   "source": [
    "# Part 1: Application Setup --\n",
    "from quixstreams import Application\n",
    "import csv\n",
    "import json\n",
    "import time\n",
    "\n",
    "# Create an Application - the main configuration entry point\n",
    "app = Application(broker_address=\"localhost:9092\", consumer_group=\"demand_forecasting\")\n",
    "\n",
    "# Define a single topic for both types of data\n",
    "combined_data_topic = app.topic(name=\"incoming_data\", value_serializer=\"json\")\n",
    "\n",
    "\n",
    "# Part 2: Simulating Streaming Data --\n",
    "\n",
    "# Paths to the CSV files with data\n",
    "ENERGY_DATA_FILE = \"data/energy_data.csv\"\n",
    "TEMPERATURE_DATA_FILE = \"data/weather_data.csv\"\n",
    "\n",
    "def load_csv(path: str):\n",
    "    rows = []\n",
    "    with open(path, \"r\") as file:\n",
    "        reader = csv.DictReader(file)\n",
    "        for row in reader:\n",
    "            # Convert all string fields that should be numeric\n",
    "            for key, value in row.items():\n",
    "                try:\n",
    "                    row[key] = float(value)\n",
    "                except ValueError:\n",
    "                    pass\n",
    "            rows.append(row)\n",
    "    return rows\n",
    "\n",
    "# Load data from the CSV files\n",
    "energy_data = load_csv(ENERGY_DATA_FILE)\n",
    "temperature_data = load_csv(TEMPERATURE_DATA_FILE)\n",
    "\n",
    "print(f'Writing CSV data to the \"{combined_data_topic.name}\" topic ...')\n",
    "with app.get_producer() as producer:\n",
    "    # Determine the length of the shorter dataset to avoid index errors\n",
    "    min_length = min(len(energy_data), len(temperature_data))\n",
    "    \n",
    "    for i in range(min_length):\n",
    "        # Access the current row from energy data\n",
    "        energy = energy_data[i]\n",
    "        # Prepare a message for energy data\n",
    "        energy_message = {\n",
    "            \"Period\": energy['period'],\n",
    "            \"Type\": \"energy\",\n",
    "            \"Value\": energy['value']\n",
    "        }\n",
    "        \n",
    "        # Send the energy data message to the combined topic\n",
    "        producer.produce(\n",
    "            topic=combined_data_topic.name,\n",
    "            key=\"energy-csv\",\n",
    "            value=json.dumps(energy_message),\n",
    "        )\n",
    "        \n",
    "        time.sleep(2) # Simulate real-time flow with a sleep for energy data\n",
    "        \n",
    "        # Access the current row from temperature data\n",
    "        temp = temperature_data[i]\n",
    "        # Prepare a message for temperature data\n",
    "        temperature_message = {\n",
    "            \"Period\": temp['period'],\n",
    "            \"Type\": \"temperature\",\n",
    "            \"Value\": temp['temperature']\n",
    "        }\n",
    "        \n",
    "        # Send the temperature data message to the same combined topic\n",
    "        producer.produce(\n",
    "            topic=combined_data_topic.name,\n",
    "            key=\"temperature-csv\",\n",
    "            value=json.dumps(temperature_message),\n",
    "        )\n",
    "        \n",
    "        time.sleep(3)  # Simulate real-time flow with a sleep for temperature data\n",
    "\n",
    "# Part 3: Shutting Down ---\n",
    "# Ensure all messages are sent before closing\n",
    "producer.flush()"
   ]
  }
 ],
 "metadata": {
  "kernelspec": {
   "display_name": "Python 3",
   "language": "python",
   "name": "python3"
  },
  "language_info": {
   "codemirror_mode": {
    "name": "ipython",
    "version": 3
   },
   "file_extension": ".py",
   "mimetype": "text/x-python",
   "name": "python",
   "nbconvert_exporter": "python",
   "pygments_lexer": "ipython3",
   "version": "3.10.12"
  }
 },
 "nbformat": 4,
 "nbformat_minor": 2
}
